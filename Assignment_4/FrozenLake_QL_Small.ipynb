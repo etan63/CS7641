{
 "cells": [
  {
   "cell_type": "code",
   "execution_count": 1,
   "id": "71927c67",
   "metadata": {},
   "outputs": [],
   "source": [
    "# Import relevant libraries\n",
    "import gym\n",
    "import numpy as np\n",
    "import pandas as pd\n",
    "import seaborn as sns\n",
    "import matplotlib.pyplot as plt\n",
    "from gym.envs.toy_text.frozen_lake import generate_random_map, FrozenLakeEnv\n",
    "from matplotlib import colors\n",
    "import hiive.mdptoolbox as mdptoolbox\n",
    "from hiive.mdptoolbox.mdp import ValueIteration, PolicyIteration, QLearning, PolicyIterationModified\n",
    "import random\n",
    "from timeit import default_timer as timer\n",
    "from datetime import timedelta\n",
    "import time\n",
    "import copy\n",
    "# Set the random seed\n",
    "np.random.seed(42)"
   ]
  },
  {
   "cell_type": "code",
   "execution_count": 2,
   "id": "259074cf",
   "metadata": {},
   "outputs": [],
   "source": [
    "# Set up helper functions\n",
    "colors = {\n",
    "    b'S': 'b',\n",
    "    b'F': 'w',\n",
    "    b'H': 'r',\n",
    "    b'G': 'g'\n",
    "}\n",
    "\n",
    "directions = {\n",
    "            0: '←',\n",
    "            1: '↓',\n",
    "            2: '→',\n",
    "            3: '↑'\n",
    "}\n",
    "\n",
    "def plot_lake(env, policy=None, title ='Frozen Lake 4x4'):\n",
    "    squares = env.nrow\n",
    "    fig = plt.figure(figsize=(6, 6))\n",
    "    ax = fig.add_subplot(111, xlim=(-.01, squares+0.01), ylim=(-.01, squares+0.01))\n",
    "    plt.title(title, fontsize=16, weight='bold', y=1.01)\n",
    "    for i in range(squares):\n",
    "        for j in range(squares):\n",
    "            y = squares - i - 1\n",
    "            x = j\n",
    "            p = plt.Rectangle([x, y], 1, 1, linewidth=1, edgecolor='k')\n",
    "            p.set_facecolor(colors[env.desc[i,j]])\n",
    "            ax.add_patch(p)\n",
    "            \n",
    "            if policy is not None:\n",
    "                text = ax.text(x+0.5, y+0.5, directions[policy[i, j]],\n",
    "                               horizontalalignment='center', size=25, verticalalignment='center',\n",
    "                               color='k')\n",
    "            \n",
    "    plt.axis('off')\n",
    "    plt.show()\n",
    "    \n",
    "def plot_lake_values(env, policy=None, title ='Frozen Lake 4x4'):\n",
    "    squares = env.nrow\n",
    "    fig = plt.figure(figsize=(6, 6))\n",
    "    ax = fig.add_subplot(111, xlim=(-.01, squares+0.01), ylim=(-.01, squares+0.01))\n",
    "    plt.title(title, fontsize=16, weight='bold', y=1.01)\n",
    "    for i in range(squares):\n",
    "        for j in range(squares):\n",
    "            y = squares - i - 1\n",
    "            x = j\n",
    "            p = plt.Rectangle([x, y], 1, 1, linewidth=1, edgecolor='k')\n",
    "            p.set_facecolor(colors[env.desc[i,j]])\n",
    "            ax.add_patch(p)\n",
    "            \n",
    "            if policy is not None:\n",
    "                text = ax.text(x+0.5, y+0.5, \"{:.4f}\".format(policy[i, j]),\n",
    "                               horizontalalignment='center', size=15, verticalalignment='center',\n",
    "                               color='k')\n",
    "            \n",
    "    plt.axis('off')\n",
    "    plt.show()\n",
    "    \n",
    "def get_score(env, policy, printInfo=False, episodes=100):\n",
    "    misses = 0\n",
    "    steps_list = []\n",
    "    for episode in range(episodes):\n",
    "        observation = env.reset()\n",
    "        steps=0\n",
    "        while True:\n",
    "            action = policy[observation]\n",
    "            observation, reward, done, _ = env.step(action)\n",
    "            steps+=1\n",
    "            if done and reward == 1:\n",
    "                steps_list.append(steps)\n",
    "                break\n",
    "            elif done and reward == 0:\n",
    "                misses += 1\n",
    "                break\n",
    "    ave_steps = np.mean(steps_list)\n",
    "    std_steps = np.std(steps_list)\n",
    "    pct_fail  = (misses/episodes)* 100\n",
    "    \n",
    "    return ave_steps, std_steps, pct_fail\n",
    "\n",
    "def get_score_mod(env, policy, printInfo=False, episodes=100):\n",
    "    misses = 0\n",
    "    steps_list = []\n",
    "    for episode in range(episodes):\n",
    "        observation = env.reset()\n",
    "        steps=0\n",
    "        while True:\n",
    "            action = policy[observation]\n",
    "            observation, reward, done, _ = env.step(action)\n",
    "            steps+=1\n",
    "            if done and reward == 1:\n",
    "                steps_list.append(steps)\n",
    "                break\n",
    "            elif done and reward == 0:\n",
    "                misses += 1\n",
    "                break\n",
    "    ave_steps = np.mean(steps_list)\n",
    "    std_steps = np.std(steps_list)\n",
    "    pct_fail  = (misses/episodes)* 100\n",
    "    pct_pass  = 100-pct_fail\n",
    "    \n",
    "    return pd.Series([ave_steps, std_steps, pct_pass])"
   ]
  },
  {
   "cell_type": "code",
   "execution_count": 5,
   "id": "abf70aec",
   "metadata": {},
   "outputs": [],
   "source": [
    "# Define a custom map for 16x16 grid world\n",
    "MAPS = {\n",
    "    \"4x4\": [\n",
    "    \"SFFF\",\n",
    "    \"FHFH\",\n",
    "    \"FFFH\",\n",
    "    \"HFFG\"\n",
    "    ],\n",
    "    \n",
    "    \"16x16\": [\n",
    "    \"SFFFFFFHFFFHHFFF\",\n",
    "    \"FFFFFFFFFFFFFFFF\",\n",
    "    \"FHHHFFFFFFFHFFFF\",\n",
    "    \"FFHFHHFHFFFFFFHF\",\n",
    "    \"FFFHFHFFFHFFFFFF\",\n",
    "    \"HFFFFFFFHFFFFFFF\",\n",
    "    \"FFFFFFFFHFFFFFFF\",\n",
    "    \"HHFHHFHFHHFFFFHH\",\n",
    "    \"FFFFFFHFFFFHHFFF\",\n",
    "    \"FFFFFFHFFFHFFFFF\",\n",
    "    \"FFFFFHFFFFFFFFFF\",\n",
    "    \"FFHFFFHHFFHFFFFH\",\n",
    "    \"HFFFFHHFFFFHFFFF\",\n",
    "    \"FFFFFFFFFFFHFFFF\",\n",
    "    \"FFHFHFFFFFFFFFFF\",\n",
    "    \"HHHFFHFHHHFFHFFG\",\n",
    "    ]\n",
    "}"
   ]
  },
  {
   "cell_type": "code",
   "execution_count": 6,
   "id": "d5b671c6",
   "metadata": {},
   "outputs": [
    {
     "data": {
      "image/png": "[encoded data removed]",
      "text/plain": [
       "<Figure size 600x600 with 1 Axes>"
      ]
     },
     "metadata": {},
     "output_type": "display_data"
    }
   ],
   "source": [
    "env = gym.make('FrozenLake-v1', desc=MAPS[\"4x4\"], is_slippery=True).unwrapped\n",
    "# Need to change the values based on number of rows and columns\n",
    "\n",
    "rows = env.nrow\n",
    "cols = env.ncol\n",
    "T = np.zeros((4, rows*cols, rows*cols))\n",
    "R = np.zeros((4, rows*cols, rows*cols))\n",
    "\n",
    "old_state = np.inf\n",
    "\n",
    "for square in env.P:\n",
    "    for action in env.P[square]:\n",
    "        for i in range(len(env.P[square][action])):\n",
    "            new_state = env.P[square][action][i][1]\n",
    "            if new_state == old_state:\n",
    "                T[action][square][env.P[square][action][i][1]] = T[action][square][old_state] + env.P[square][action][i][0]\n",
    "                R[action][square][env.P[square][action][i][1]] = R[action][square][old_state] + env.P[square][action][i][2]\n",
    "            else:\n",
    "                T[action][square][env.P[square][action][i][1]] = env.P[square][action][i][0]\n",
    "                R[action][square][env.P[square][action][i][1]] = env.P[square][action][i][2]\n",
    "            old_state = env.P[square][action][i][1]\n",
    "            \n",
    "\n",
    "plot_lake(env, policy=None, title = 'Frozen Lake 4x4')"
   ]
  },
  {
   "cell_type": "code",
   "execution_count": 72,
   "id": "f0ede3e2",
   "metadata": {},
   "outputs": [],
   "source": [
    "def trainQ(P, R, discount=0.9, alpha =[0.01], alpha_dec=[0.99], alpha_min=[0.001], \n",
    "            epsilon=[1.0], epsilon_decay=[0.99], n_iter=[1000000]):\n",
    "    \n",
    "    q_df = pd.DataFrame(columns=[\"Iterations\",'Gamma','Alpha', \"Alpha Decay\", \"Alpha Min\", \n",
    "                                 \"Epsilon\", \"Epsilon Decay\", \"Reward\",\n",
    "                                 \"Time\", \"Policy\", \"Value Function\",\n",
    "                                 \"Training Rewards\",\n",
    "                                 #'Avg_Steps','Steps_StDev','Success_Rate'\n",
    "                                ])\n",
    "    q_run_full = pd.DataFrame()\n",
    "    count = 0\n",
    "    for i in n_iter:\n",
    "        for eps in epsilon:\n",
    "            for eps_dec in epsilon_decay:\n",
    "                for a_dec in alpha_dec:\n",
    "                    for a_min in alpha_min:\n",
    "                        for gamma in discount:\n",
    "                            for alphas in alpha:\n",
    "                                q = QLearning(P, R, gamma=gamma,alpha =alphas, alpha_decay=a_dec, \n",
    "                                              alpha_min=a_min, epsilon=eps, \n",
    "                                              epsilon_decay=eps_dec, n_iter=i)\n",
    "                                q_run, q_policy = q.run()\n",
    "\n",
    "                                q_run_df = pd.DataFrame(q_run)\n",
    "                                q_run_df['Iteration_Run'] = i\n",
    "                                q_run_df['Gamma_Var'] = gamma\n",
    "                                q_run_df['Alpha_Var'] = alphas\n",
    "                                q_run_df['Eps_Var'] = eps\n",
    "                                reward = max(q_run_df['Reward'])\n",
    "                                #steps, steps_stddev, failures = get_score(env, q.policy, None)\n",
    "\n",
    "                                count += 1\n",
    "                                print(\"{}: {}\".format(count, reward))\n",
    "                                st = q.run_stats\n",
    "                                rews = [s['Reward'] for s in st]\n",
    "                                info = [i,gamma,alphas, a_dec, a_min, eps, eps_dec, reward, \n",
    "                                        q.time, q.policy, q.V, rews,\n",
    "                                        #steps,steps_stddev,\n",
    "                                        # Success is 100% - failure%\n",
    "                                        #100-failures\n",
    "                                       ]\n",
    "\n",
    "                                df_length = len(q_df)\n",
    "                                q_df.loc[df_length] = info\n",
    "\n",
    "                                q_run_full = pd.concat([q_run_full,q_run_df])\n",
    "                        \n",
    "    return q_df,q_policy,q_run,q_run_full"
   ]
  },
  {
   "cell_type": "code",
   "execution_count": 77,
   "id": "8aa1bde5",
   "metadata": {},
   "outputs": [
    {
     "name": "stdout",
     "output_type": "stream",
     "text": [
      "1: 1.0\n",
      "2: 1.0\n",
      "3: 1.0\n",
      "4: 1.0\n",
      "5: 1.0\n",
      "6: 1.0\n",
      "7: 1.0\n",
      "8: 1.0\n",
      "9: 1.0\n",
      "10: 1.0\n",
      "11: 1.0\n",
      "12: 1.0\n",
      "13: 1.0\n",
      "14: 1.0\n",
      "15: 1.0\n",
      "16: 1.0\n",
      "17: 1.0\n",
      "18: 1.0\n",
      "19: 1.0\n",
      "20: 1.0\n",
      "21: 1.0\n",
      "22: 1.0\n",
      "23: 1.0\n",
      "24: 1.0\n",
      "25: 1.0\n",
      "26: 1.0\n",
      "27: 1.0\n",
      "28: 1.0\n",
      "29: 1.0\n",
      "30: 1.0\n",
      "31: 1.0\n",
      "32: 1.0\n",
      "33: 1.0\n",
      "34: 1.0\n",
      "35: 1.0\n",
      "36: 1.0\n",
      "Wall time: 1h 22min 17s\n"
     ]
    }
   ],
   "source": [
    "%%time\n",
    "gamma = [0.5,0.9,0.99]\n",
    "alphas= [0.1,0.01,0.001]\n",
    "eps = [0.5,1]\n",
    "iters = [1e6,1e7]\n",
    "q_df_2,q_policy_2,q_run_2,q_run_full_2 = trainQ(T, R, discount=gamma,alpha=alphas,epsilon=eps,\n",
    "            n_iter=iters)"
   ]
  },
  {
   "cell_type": "code",
   "execution_count": 78,
   "id": "0fb4806c",
   "metadata": {},
   "outputs": [
    {
     "data": {
      "text/html": [
       "<div>\n",
       "<style scoped>\n",
       "    .dataframe tbody tr th:only-of-type {\n",
       "        vertical-align: middle;\n",
       "    }\n",
       "\n",
       "    .dataframe tbody tr th {\n",
       "        vertical-align: top;\n",
       "    }\n",
       "\n",
       "    .dataframe thead th {\n",
       "        text-align: right;\n",
       "    }\n",
       "</style>\n",
       "<table border=\"1\" class=\"dataframe\">\n",
       "  <thead>\n",
       "    <tr style=\"text-align: right;\">\n",
       "      <th></th>\n",
       "      <th>State</th>\n",
       "      <th>Action</th>\n",
       "      <th>Reward</th>\n",
       "      <th>Error</th>\n",
       "      <th>Time</th>\n",
       "      <th>Alpha</th>\n",
       "      <th>Epsilon</th>\n",
       "      <th>Gamma</th>\n",
       "      <th>Max V</th>\n",
       "      <th>Mean V</th>\n",
       "      <th>Iteration</th>\n",
       "      <th>Iteration_Run</th>\n",
       "      <th>Gamma_Var</th>\n",
       "      <th>Alpha_Var</th>\n",
       "      <th>Eps_Var</th>\n",
       "    </tr>\n",
       "  </thead>\n",
       "  <tbody>\n",
       "    <tr>\n",
       "      <th>0</th>\n",
       "      <td>2</td>\n",
       "      <td>0</td>\n",
       "      <td>-0.01</td>\n",
       "      <td>0.000370</td>\n",
       "      <td>0.004291</td>\n",
       "      <td>0.036973</td>\n",
       "      <td>0.184865</td>\n",
       "      <td>0.50</td>\n",
       "      <td>0.000000</td>\n",
       "      <td>0.000000</td>\n",
       "      <td>100</td>\n",
       "      <td>1000000.0</td>\n",
       "      <td>0.50</td>\n",
       "      <td>0.100</td>\n",
       "      <td>0.5</td>\n",
       "    </tr>\n",
       "    <tr>\n",
       "      <th>1</th>\n",
       "      <td>10</td>\n",
       "      <td>3</td>\n",
       "      <td>-0.01</td>\n",
       "      <td>0.000135</td>\n",
       "      <td>0.007388</td>\n",
       "      <td>0.013533</td>\n",
       "      <td>0.100000</td>\n",
       "      <td>0.50</td>\n",
       "      <td>0.000000</td>\n",
       "      <td>0.000000</td>\n",
       "      <td>200</td>\n",
       "      <td>1000000.0</td>\n",
       "      <td>0.50</td>\n",
       "      <td>0.100</td>\n",
       "      <td>0.5</td>\n",
       "    </tr>\n",
       "    <tr>\n",
       "      <th>2</th>\n",
       "      <td>15</td>\n",
       "      <td>3</td>\n",
       "      <td>0.00</td>\n",
       "      <td>0.000000</td>\n",
       "      <td>0.009490</td>\n",
       "      <td>0.004954</td>\n",
       "      <td>0.100000</td>\n",
       "      <td>0.50</td>\n",
       "      <td>0.000000</td>\n",
       "      <td>0.000000</td>\n",
       "      <td>300</td>\n",
       "      <td>1000000.0</td>\n",
       "      <td>0.50</td>\n",
       "      <td>0.100</td>\n",
       "      <td>0.5</td>\n",
       "    </tr>\n",
       "    <tr>\n",
       "      <th>3</th>\n",
       "      <td>0</td>\n",
       "      <td>0</td>\n",
       "      <td>-0.01</td>\n",
       "      <td>0.000018</td>\n",
       "      <td>0.011591</td>\n",
       "      <td>0.001813</td>\n",
       "      <td>0.100000</td>\n",
       "      <td>0.50</td>\n",
       "      <td>0.000000</td>\n",
       "      <td>0.000000</td>\n",
       "      <td>400</td>\n",
       "      <td>1000000.0</td>\n",
       "      <td>0.50</td>\n",
       "      <td>0.100</td>\n",
       "      <td>0.5</td>\n",
       "    </tr>\n",
       "    <tr>\n",
       "      <th>4</th>\n",
       "      <td>6</td>\n",
       "      <td>1</td>\n",
       "      <td>-0.10</td>\n",
       "      <td>0.000100</td>\n",
       "      <td>0.014715</td>\n",
       "      <td>0.001000</td>\n",
       "      <td>0.100000</td>\n",
       "      <td>0.50</td>\n",
       "      <td>0.000000</td>\n",
       "      <td>0.000000</td>\n",
       "      <td>500</td>\n",
       "      <td>1000000.0</td>\n",
       "      <td>0.50</td>\n",
       "      <td>0.100</td>\n",
       "      <td>0.5</td>\n",
       "    </tr>\n",
       "    <tr>\n",
       "      <th>...</th>\n",
       "      <td>...</td>\n",
       "      <td>...</td>\n",
       "      <td>...</td>\n",
       "      <td>...</td>\n",
       "      <td>...</td>\n",
       "      <td>...</td>\n",
       "      <td>...</td>\n",
       "      <td>...</td>\n",
       "      <td>...</td>\n",
       "      <td>...</td>\n",
       "      <td>...</td>\n",
       "      <td>...</td>\n",
       "      <td>...</td>\n",
       "      <td>...</td>\n",
       "      <td>...</td>\n",
       "    </tr>\n",
       "    <tr>\n",
       "      <th>9995</th>\n",
       "      <td>2</td>\n",
       "      <td>0</td>\n",
       "      <td>-0.01</td>\n",
       "      <td>0.000010</td>\n",
       "      <td>274.338322</td>\n",
       "      <td>0.001000</td>\n",
       "      <td>0.100000</td>\n",
       "      <td>0.99</td>\n",
       "      <td>0.527589</td>\n",
       "      <td>0.092632</td>\n",
       "      <td>9996000</td>\n",
       "      <td>10000000.0</td>\n",
       "      <td>0.99</td>\n",
       "      <td>0.001</td>\n",
       "      <td>1.0</td>\n",
       "    </tr>\n",
       "    <tr>\n",
       "      <th>9996</th>\n",
       "      <td>0</td>\n",
       "      <td>2</td>\n",
       "      <td>-0.01</td>\n",
       "      <td>0.000035</td>\n",
       "      <td>274.365248</td>\n",
       "      <td>0.001000</td>\n",
       "      <td>0.100000</td>\n",
       "      <td>0.99</td>\n",
       "      <td>0.529190</td>\n",
       "      <td>0.092730</td>\n",
       "      <td>9997000</td>\n",
       "      <td>10000000.0</td>\n",
       "      <td>0.99</td>\n",
       "      <td>0.001</td>\n",
       "      <td>1.0</td>\n",
       "    </tr>\n",
       "    <tr>\n",
       "      <th>9997</th>\n",
       "      <td>15</td>\n",
       "      <td>0</td>\n",
       "      <td>0.00</td>\n",
       "      <td>0.000000</td>\n",
       "      <td>274.390224</td>\n",
       "      <td>0.001000</td>\n",
       "      <td>0.100000</td>\n",
       "      <td>0.99</td>\n",
       "      <td>0.528345</td>\n",
       "      <td>0.092731</td>\n",
       "      <td>9998000</td>\n",
       "      <td>10000000.0</td>\n",
       "      <td>0.99</td>\n",
       "      <td>0.001</td>\n",
       "      <td>1.0</td>\n",
       "    </tr>\n",
       "    <tr>\n",
       "      <th>9998</th>\n",
       "      <td>2</td>\n",
       "      <td>0</td>\n",
       "      <td>-0.01</td>\n",
       "      <td>0.000030</td>\n",
       "      <td>274.418641</td>\n",
       "      <td>0.001000</td>\n",
       "      <td>0.100000</td>\n",
       "      <td>0.99</td>\n",
       "      <td>0.527483</td>\n",
       "      <td>0.092654</td>\n",
       "      <td>9999000</td>\n",
       "      <td>10000000.0</td>\n",
       "      <td>0.99</td>\n",
       "      <td>0.001</td>\n",
       "      <td>1.0</td>\n",
       "    </tr>\n",
       "    <tr>\n",
       "      <th>9999</th>\n",
       "      <td>11</td>\n",
       "      <td>0</td>\n",
       "      <td>0.00</td>\n",
       "      <td>0.000000</td>\n",
       "      <td>274.442697</td>\n",
       "      <td>0.001000</td>\n",
       "      <td>0.100000</td>\n",
       "      <td>0.99</td>\n",
       "      <td>0.528142</td>\n",
       "      <td>0.092721</td>\n",
       "      <td>10000000</td>\n",
       "      <td>10000000.0</td>\n",
       "      <td>0.99</td>\n",
       "      <td>0.001</td>\n",
       "      <td>1.0</td>\n",
       "    </tr>\n",
       "  </tbody>\n",
       "</table>\n",
       "<p>360000 rows × 15 columns</p>\n",
       "</div>"
      ],
      "text/plain": [
       "      State  Action  Reward     Error        Time     Alpha   Epsilon  Gamma  \\\n",
       "0         2       0   -0.01  0.000370    0.004291  0.036973  0.184865   0.50   \n",
       "1        10       3   -0.01  0.000135    0.007388  0.013533  0.100000   0.50   \n",
       "2        15       3    0.00  0.000000    0.009490  0.004954  0.100000   0.50   \n",
       "3         0       0   -0.01  0.000018    0.011591  0.001813  0.100000   0.50   \n",
       "4         6       1   -0.10  0.000100    0.014715  0.001000  0.100000   0.50   \n",
       "...     ...     ...     ...       ...         ...       ...       ...    ...   \n",
       "9995      2       0   -0.01  0.000010  274.338322  0.001000  0.100000   0.99   \n",
       "9996      0       2   -0.01  0.000035  274.365248  0.001000  0.100000   0.99   \n",
       "9997     15       0    0.00  0.000000  274.390224  0.001000  0.100000   0.99   \n",
       "9998      2       0   -0.01  0.000030  274.418641  0.001000  0.100000   0.99   \n",
       "9999     11       0    0.00  0.000000  274.442697  0.001000  0.100000   0.99   \n",
       "\n",
       "         Max V    Mean V  Iteration  Iteration_Run  Gamma_Var  Alpha_Var  \\\n",
       "0     0.000000  0.000000        100      1000000.0       0.50      0.100   \n",
       "1     0.000000  0.000000        200      1000000.0       0.50      0.100   \n",
       "2     0.000000  0.000000        300      1000000.0       0.50      0.100   \n",
       "3     0.000000  0.000000        400      1000000.0       0.50      0.100   \n",
       "4     0.000000  0.000000        500      1000000.0       0.50      0.100   \n",
       "...        ...       ...        ...            ...        ...        ...   \n",
       "9995  0.527589  0.092632    9996000     10000000.0       0.99      0.001   \n",
       "9996  0.529190  0.092730    9997000     10000000.0       0.99      0.001   \n",
       "9997  0.528345  0.092731    9998000     10000000.0       0.99      0.001   \n",
       "9998  0.527483  0.092654    9999000     10000000.0       0.99      0.001   \n",
       "9999  0.528142  0.092721   10000000     10000000.0       0.99      0.001   \n",
       "\n",
       "      Eps_Var  \n",
       "0         0.5  \n",
       "1         0.5  \n",
       "2         0.5  \n",
       "3         0.5  \n",
       "4         0.5  \n",
       "...       ...  \n",
       "9995      1.0  \n",
       "9996      1.0  \n",
       "9997      1.0  \n",
       "9998      1.0  \n",
       "9999      1.0  \n",
       "\n",
       "[360000 rows x 15 columns]"
      ]
     },
     "execution_count": 78,
     "metadata": {},
     "output_type": "execute_result"
    }
   ],
   "source": [
    "q_run_full_1"
   ]
  },
  {
   "cell_type": "code",
   "execution_count": 137,
   "id": "ce95e75b",
   "metadata": {},
   "outputs": [],
   "source": [
    "q1 = q_run_full_1[(q_run_full_1['Alpha_Var']==0.1) & (q_run_full_1['Eps_Var']==0.5)& (q_run_full_1['Gamma_Var']==0.99) & (q_run_full_1['Iteration_Run']==1000000)]\n",
    "\n",
    "q2 = q_run_full_1[(q_run_full_1['Alpha_Var']==0.1) & (q_run_full_1['Eps_Var']==0.5)& (q_run_full_1['Gamma_Var']==0.5) & (q_run_full_1['Iteration_Run']==10000000)]\n",
    "q3 = q_run_full_1[(q_run_full_1['Alpha_Var']==0.1) & (q_run_full_1['Eps_Var']==0.5)& (q_run_full_1['Gamma_Var']==0.9) & (q_run_full_1['Iteration_Run']==10000000)]\n",
    "q4 = q_run_full_1[(q_run_full_1['Alpha_Var']==0.1) & (q_run_full_1['Eps_Var']==0.5)& (q_run_full_1['Gamma_Var']==0.99) & (q_run_full_1['Iteration_Run']==10000000)]\n",
    "q5 = q_run_full_1[(q_run_full_1['Alpha_Var']==0.01) & (q_run_full_1['Eps_Var']==0.5)& (q_run_full_1['Gamma_Var']==0.5) & (q_run_full_1['Iteration_Run']==10000000)]\n",
    "q6 = q_run_full_1[(q_run_full_1['Alpha_Var']==0.01) & (q_run_full_1['Eps_Var']==0.5)& (q_run_full_1['Gamma_Var']==0.9) & (q_run_full_1['Iteration_Run']==10000000)]\n",
    "q7 = q_run_full_1[(q_run_full_1['Alpha_Var']==0.01) & (q_run_full_1['Eps_Var']==0.5)& (q_run_full_1['Gamma_Var']==0.99) & (q_run_full_1['Iteration_Run']==10000000)]\n",
    "\n",
    "q8 = q_run_full_1[(q_run_full_1['Alpha_Var']==0.01) & (q_run_full_1['Eps_Var']==1)& (q_run_full_1['Gamma_Var']==0.5) & (q_run_full_1['Iteration_Run']==10000000)]\n",
    "q9 = q_run_full_1[(q_run_full_1['Alpha_Var']==0.01) & (q_run_full_1['Eps_Var']==1)& (q_run_full_1['Gamma_Var']==0.9) & (q_run_full_1['Iteration_Run']==10000000)]\n",
    "q10 = q_run_full_1[(q_run_full_1['Alpha_Var']==0.01) & (q_run_full_1['Eps_Var']==1)& (q_run_full_1['Gamma_Var']==0.99) & (q_run_full_1['Iteration_Run']==10000000)]\n",
    "\n",
    "\n",
    "w2 = q_run_full_1[(q_run_full_1['Alpha_Var']==0.1) & (q_run_full_1['Eps_Var']==0.5)& (q_run_full_1['Gamma_Var']==0.5) & (q_run_full_1['Iteration_Run']==1000000)]\n",
    "w3 = q_run_full_1[(q_run_full_1['Alpha_Var']==0.1) & (q_run_full_1['Eps_Var']==0.5)& (q_run_full_1['Gamma_Var']==0.9) & (q_run_full_1['Iteration_Run']==1000000)]\n",
    "w4 = q_run_full_1[(q_run_full_1['Alpha_Var']==0.1) & (q_run_full_1['Eps_Var']==0.5)& (q_run_full_1['Gamma_Var']==0.99) & (q_run_full_1['Iteration_Run']==1000000)]\n",
    "w5 = q_run_full_1[(q_run_full_1['Alpha_Var']==0.01) & (q_run_full_1['Eps_Var']==0.5)& (q_run_full_1['Gamma_Var']==0.5) & (q_run_full_1['Iteration_Run']==1000000)]\n",
    "w6 = q_run_full_1[(q_run_full_1['Alpha_Var']==0.01) & (q_run_full_1['Eps_Var']==0.5)& (q_run_full_1['Gamma_Var']==0.9) & (q_run_full_1['Iteration_Run']==1000000)]\n",
    "w7 = q_run_full_1[(q_run_full_1['Alpha_Var']==0.01) & (q_run_full_1['Eps_Var']==0.5)& (q_run_full_1['Gamma_Var']==0.99) & (q_run_full_1['Iteration_Run']==1000000)]\n",
    "\n",
    "w8 = q_run_full_1[(q_run_full_1['Alpha_Var']==0.01) & (q_run_full_1['Eps_Var']==1)& (q_run_full_1['Gamma_Var']==0.5) & (q_run_full_1['Iteration_Run']==1000000)]\n",
    "w9 = q_run_full_1[(q_run_full_1['Alpha_Var']==0.01) & (q_run_full_1['Eps_Var']==1)& (q_run_full_1['Gamma_Var']==0.9) & (q_run_full_1['Iteration_Run']==1000000)]\n",
    "w10 = q_run_full_1[(q_run_full_1['Alpha_Var']==0.01) & (q_run_full_1['Eps_Var']==1)& (q_run_full_1['Gamma_Var']==0.99) & (q_run_full_1['Iteration_Run']==1000000)]\n"
   ]
  },
  {
   "cell_type": "code",
   "execution_count": 138,
   "id": "fd3e5d50",
   "metadata": {},
   "outputs": [
    {
     "data": {
      "text/plain": [
       "<matplotlib.legend.Legend at 0x16981b43640>"
      ]
     },
     "execution_count": 138,
     "metadata": {},
     "output_type": "execute_result"
    },
    {
     "data": {
      "image/png": "[encoded data removed]",
      "text/plain": [
       "<Figure size 640x480 with 1 Axes>"
      ]
     },
     "metadata": {},
     "output_type": "display_data"
    }
   ],
   "source": [
    "plt.plot(q2['Iteration'], q2['Mean V'], color='b', label='1e7')\n",
    "plt.plot(q3['Iteration'], q3['Mean V'], color='b')\n",
    "plt.plot(q4['Iteration'], q4['Mean V'], color='b')\n",
    "plt.plot(q5['Iteration'], q5['Mean V'], color='b')\n",
    "plt.plot(q6['Iteration'], q6['Mean V'], color='b')\n",
    "plt.plot(q7['Iteration'], q7['Mean V'], color='b')\n",
    "plt.plot(q8['Iteration'], q8['Mean V'], color='b')\n",
    "plt.plot(q9['Iteration'], q9['Mean V'], color='b')\n",
    "plt.plot(q10['Iteration'], q10['Mean V'], color='b')\n",
    "\n",
    "plt.plot(w2['Iteration'], w2['Mean V'], color='orange', label='1e6')\n",
    "plt.plot(w3['Iteration'], w3['Mean V'], color='orange')\n",
    "plt.plot(w4['Iteration'], w4['Mean V'], color='orange')\n",
    "plt.plot(w5['Iteration'], w5['Mean V'], color='orange')\n",
    "plt.plot(w6['Iteration'], w6['Mean V'], color='orange')\n",
    "plt.plot(w7['Iteration'], w7['Mean V'], color='orange')\n",
    "plt.plot(w8['Iteration'], w8['Mean V'], color='orange')\n",
    "plt.plot(w9['Iteration'], w9['Mean V'], color='orange')\n",
    "plt.plot(w10['Iteration'], w10['Mean V'], color='orange')\n",
    "\n",
    "plt.title('Effect of Iteration on Convergence', fontsize=16)\n",
    "plt.xlabel('Iterations', fontsize=14)\n",
    "plt.ylabel('Mean V', fontsize=14)\n",
    "plt.legend(title=\"HP with Iterations\",title_fontsize=12, loc=\"best\",prop={'size': 14})"
   ]
  },
  {
   "cell_type": "code",
   "execution_count": 145,
   "id": "a677495a",
   "metadata": {},
   "outputs": [
    {
     "name": "stdout",
     "output_type": "stream",
     "text": [
      "0\n"
     ]
    },
    {
     "name": "stderr",
     "output_type": "stream",
     "text": [
      "C:\\Users\\UGGTech\\anaconda3\\lib\\site-packages\\numpy\\core\\fromnumeric.py:3440: RuntimeWarning: Mean of empty slice.\n",
      "  return _methods._mean(a, axis=axis, dtype=dtype,\n",
      "C:\\Users\\UGGTech\\anaconda3\\lib\\site-packages\\numpy\\core\\_methods.py:189: RuntimeWarning: invalid value encountered in double_scalars\n",
      "  ret = ret.dtype.type(ret / rcount)\n",
      "C:\\Users\\UGGTech\\anaconda3\\lib\\site-packages\\numpy\\core\\_methods.py:262: RuntimeWarning: Degrees of freedom <= 0 for slice\n",
      "  ret = _var(a, axis=axis, dtype=dtype, out=out, ddof=ddof,\n",
      "C:\\Users\\UGGTech\\anaconda3\\lib\\site-packages\\numpy\\core\\_methods.py:222: RuntimeWarning: invalid value encountered in true_divide\n",
      "  arrmean = um.true_divide(arrmean, div, out=arrmean, casting='unsafe',\n",
      "C:\\Users\\UGGTech\\anaconda3\\lib\\site-packages\\numpy\\core\\_methods.py:254: RuntimeWarning: invalid value encountered in double_scalars\n",
      "  ret = ret.dtype.type(ret / rcount)\n"
     ]
    },
    {
     "name": "stdout",
     "output_type": "stream",
     "text": [
      "1\n"
     ]
    },
    {
     "name": "stderr",
     "output_type": "stream",
     "text": [
      "C:\\Users\\UGGTech\\anaconda3\\lib\\site-packages\\numpy\\core\\fromnumeric.py:3440: RuntimeWarning: Mean of empty slice.\n",
      "  return _methods._mean(a, axis=axis, dtype=dtype,\n",
      "C:\\Users\\UGGTech\\anaconda3\\lib\\site-packages\\numpy\\core\\_methods.py:189: RuntimeWarning: invalid value encountered in double_scalars\n",
      "  ret = ret.dtype.type(ret / rcount)\n",
      "C:\\Users\\UGGTech\\anaconda3\\lib\\site-packages\\numpy\\core\\_methods.py:262: RuntimeWarning: Degrees of freedom <= 0 for slice\n",
      "  ret = _var(a, axis=axis, dtype=dtype, out=out, ddof=ddof,\n",
      "C:\\Users\\UGGTech\\anaconda3\\lib\\site-packages\\numpy\\core\\_methods.py:222: RuntimeWarning: invalid value encountered in true_divide\n",
      "  arrmean = um.true_divide(arrmean, div, out=arrmean, casting='unsafe',\n",
      "C:\\Users\\UGGTech\\anaconda3\\lib\\site-packages\\numpy\\core\\_methods.py:254: RuntimeWarning: invalid value encountered in double_scalars\n",
      "  ret = ret.dtype.type(ret / rcount)\n"
     ]
    },
    {
     "name": "stdout",
     "output_type": "stream",
     "text": [
      "2\n"
     ]
    },
    {
     "name": "stderr",
     "output_type": "stream",
     "text": [
      "C:\\Users\\UGGTech\\anaconda3\\lib\\site-packages\\numpy\\core\\fromnumeric.py:3440: RuntimeWarning: Mean of empty slice.\n",
      "  return _methods._mean(a, axis=axis, dtype=dtype,\n",
      "C:\\Users\\UGGTech\\anaconda3\\lib\\site-packages\\numpy\\core\\_methods.py:189: RuntimeWarning: invalid value encountered in double_scalars\n",
      "  ret = ret.dtype.type(ret / rcount)\n",
      "C:\\Users\\UGGTech\\anaconda3\\lib\\site-packages\\numpy\\core\\_methods.py:262: RuntimeWarning: Degrees of freedom <= 0 for slice\n",
      "  ret = _var(a, axis=axis, dtype=dtype, out=out, ddof=ddof,\n",
      "C:\\Users\\UGGTech\\anaconda3\\lib\\site-packages\\numpy\\core\\_methods.py:222: RuntimeWarning: invalid value encountered in true_divide\n",
      "  arrmean = um.true_divide(arrmean, div, out=arrmean, casting='unsafe',\n",
      "C:\\Users\\UGGTech\\anaconda3\\lib\\site-packages\\numpy\\core\\_methods.py:254: RuntimeWarning: invalid value encountered in double_scalars\n",
      "  ret = ret.dtype.type(ret / rcount)\n"
     ]
    },
    {
     "name": "stdout",
     "output_type": "stream",
     "text": [
      "3\n"
     ]
    },
    {
     "name": "stderr",
     "output_type": "stream",
     "text": [
      "C:\\Users\\UGGTech\\anaconda3\\lib\\site-packages\\numpy\\core\\fromnumeric.py:3440: RuntimeWarning: Mean of empty slice.\n",
      "  return _methods._mean(a, axis=axis, dtype=dtype,\n",
      "C:\\Users\\UGGTech\\anaconda3\\lib\\site-packages\\numpy\\core\\_methods.py:189: RuntimeWarning: invalid value encountered in double_scalars\n",
      "  ret = ret.dtype.type(ret / rcount)\n",
      "C:\\Users\\UGGTech\\anaconda3\\lib\\site-packages\\numpy\\core\\_methods.py:262: RuntimeWarning: Degrees of freedom <= 0 for slice\n",
      "  ret = _var(a, axis=axis, dtype=dtype, out=out, ddof=ddof,\n",
      "C:\\Users\\UGGTech\\anaconda3\\lib\\site-packages\\numpy\\core\\_methods.py:222: RuntimeWarning: invalid value encountered in true_divide\n",
      "  arrmean = um.true_divide(arrmean, div, out=arrmean, casting='unsafe',\n",
      "C:\\Users\\UGGTech\\anaconda3\\lib\\site-packages\\numpy\\core\\_methods.py:254: RuntimeWarning: invalid value encountered in double_scalars\n",
      "  ret = ret.dtype.type(ret / rcount)\n"
     ]
    },
    {
     "name": "stdout",
     "output_type": "stream",
     "text": [
      "4\n"
     ]
    },
    {
     "name": "stderr",
     "output_type": "stream",
     "text": [
      "C:\\Users\\UGGTech\\anaconda3\\lib\\site-packages\\numpy\\core\\fromnumeric.py:3440: RuntimeWarning: Mean of empty slice.\n",
      "  return _methods._mean(a, axis=axis, dtype=dtype,\n",
      "C:\\Users\\UGGTech\\anaconda3\\lib\\site-packages\\numpy\\core\\_methods.py:189: RuntimeWarning: invalid value encountered in double_scalars\n",
      "  ret = ret.dtype.type(ret / rcount)\n",
      "C:\\Users\\UGGTech\\anaconda3\\lib\\site-packages\\numpy\\core\\_methods.py:262: RuntimeWarning: Degrees of freedom <= 0 for slice\n",
      "  ret = _var(a, axis=axis, dtype=dtype, out=out, ddof=ddof,\n",
      "C:\\Users\\UGGTech\\anaconda3\\lib\\site-packages\\numpy\\core\\_methods.py:222: RuntimeWarning: invalid value encountered in true_divide\n",
      "  arrmean = um.true_divide(arrmean, div, out=arrmean, casting='unsafe',\n",
      "C:\\Users\\UGGTech\\anaconda3\\lib\\site-packages\\numpy\\core\\_methods.py:254: RuntimeWarning: invalid value encountered in double_scalars\n",
      "  ret = ret.dtype.type(ret / rcount)\n"
     ]
    },
    {
     "name": "stdout",
     "output_type": "stream",
     "text": [
      "Wall time: 1min 1s\n"
     ]
    }
   ],
   "source": [
    "%%time\n",
    "applied_df_full_1 =pd.DataFrame()\n",
    "applied_df_1 = pd.DataFrame(columns=['Avg_Steps', 'StDev_Steps','Success_Rate'])\n",
    "for i in range(0,5):\n",
    "    print(i)\n",
    "    applied_df_1[['Avg_Steps', 'StDev_Steps','Success_Rate']] = q_df_2.apply(lambda x: get_score_mod(env, x[\"Policy\"], None), axis =1)\n",
    "    applied_df_1 = applied_df_1[['Success_Rate']]\n",
    "    applied_df_1 = applied_df_1.rename(columns ={'Success_Rate':'Success_Rate_'+str(i)})\n",
    "    applied_df_1['Gamma'] = q_df_1['Gamma']\n",
    "    applied_df_1['Alpha'] = q_df_1['Alpha']\n",
    "    applied_df_1['Epsilon'] = q_df_1['Epsilon']\n",
    "    applied_df_1['Iterations'] = q_df_1['Iterations']\n",
    "    \n",
    "    applied_df_full_1 = pd.concat([applied_df_full_1,applied_df_1], axis =1)"
   ]
  },
  {
   "cell_type": "code",
   "execution_count": 170,
   "id": "1c205707",
   "metadata": {},
   "outputs": [
    {
     "data": {
      "text/plain": [
       "Text(0, 0.5, 'Occurances')"
      ]
     },
     "execution_count": 170,
     "metadata": {},
     "output_type": "execute_result"
    },
    {
     "data": {
      "image/png": "[encoded data removed]",
      "text/plain": [
       "<Figure size 640x480 with 1 Axes>"
      ]
     },
     "metadata": {},
     "output_type": "display_data"
    }
   ],
   "source": [
    "q_df_1['Time'].hist()\n",
    "plt.title('Wall Clock Time - Q Learning')\n",
    "plt.xlabel('Time Taken')\n",
    "plt.ylabel('Occurances')"
   ]
  },
  {
   "cell_type": "code",
   "execution_count": 146,
   "id": "93a50bdc",
   "metadata": {},
   "outputs": [
    {
     "data": {
      "text/html": [
       "<div>\n",
       "<style scoped>\n",
       "    .dataframe tbody tr th:only-of-type {\n",
       "        vertical-align: middle;\n",
       "    }\n",
       "\n",
       "    .dataframe tbody tr th {\n",
       "        vertical-align: top;\n",
       "    }\n",
       "\n",
       "    .dataframe thead th {\n",
       "        text-align: right;\n",
       "    }\n",
       "</style>\n",
       "<table border=\"1\" class=\"dataframe\">\n",
       "  <thead>\n",
       "    <tr style=\"text-align: right;\">\n",
       "      <th></th>\n",
       "      <th>Success_Rate_0</th>\n",
       "      <th>Gamma</th>\n",
       "      <th>Alpha</th>\n",
       "      <th>Epsilon</th>\n",
       "      <th>Iterations</th>\n",
       "      <th>Success_Rate_1</th>\n",
       "      <th>Success_Rate_2</th>\n",
       "      <th>Success_Rate_3</th>\n",
       "      <th>Success_Rate_4</th>\n",
       "      <th>Success_Mean</th>\n",
       "      <th>Success_StdDev</th>\n",
       "      <th>Success_Max</th>\n",
       "    </tr>\n",
       "  </thead>\n",
       "  <tbody>\n",
       "    <tr>\n",
       "      <th>0</th>\n",
       "      <td>68.8</td>\n",
       "      <td>0.50</td>\n",
       "      <td>0.100</td>\n",
       "      <td>0.5</td>\n",
       "      <td>1000000.0</td>\n",
       "      <td>71.7</td>\n",
       "      <td>67.8</td>\n",
       "      <td>68.5</td>\n",
       "      <td>71.4</td>\n",
       "      <td>69.64</td>\n",
       "      <td>1.784096</td>\n",
       "      <td>71.7</td>\n",
       "    </tr>\n",
       "    <tr>\n",
       "      <th>1</th>\n",
       "      <td>51.7</td>\n",
       "      <td>0.50</td>\n",
       "      <td>0.010</td>\n",
       "      <td>0.5</td>\n",
       "      <td>1000000.0</td>\n",
       "      <td>51.9</td>\n",
       "      <td>54.4</td>\n",
       "      <td>50.4</td>\n",
       "      <td>54.6</td>\n",
       "      <td>52.60</td>\n",
       "      <td>1.828934</td>\n",
       "      <td>54.6</td>\n",
       "    </tr>\n",
       "    <tr>\n",
       "      <th>2</th>\n",
       "      <td>51.5</td>\n",
       "      <td>0.50</td>\n",
       "      <td>0.001</td>\n",
       "      <td>0.5</td>\n",
       "      <td>1000000.0</td>\n",
       "      <td>49.3</td>\n",
       "      <td>54.4</td>\n",
       "      <td>52.0</td>\n",
       "      <td>52.2</td>\n",
       "      <td>51.88</td>\n",
       "      <td>1.821263</td>\n",
       "      <td>54.4</td>\n",
       "    </tr>\n",
       "    <tr>\n",
       "      <th>3</th>\n",
       "      <td>51.3</td>\n",
       "      <td>0.90</td>\n",
       "      <td>0.100</td>\n",
       "      <td>0.5</td>\n",
       "      <td>1000000.0</td>\n",
       "      <td>50.4</td>\n",
       "      <td>55.2</td>\n",
       "      <td>51.8</td>\n",
       "      <td>52.7</td>\n",
       "      <td>52.28</td>\n",
       "      <td>1.832212</td>\n",
       "      <td>55.2</td>\n",
       "    </tr>\n",
       "    <tr>\n",
       "      <th>4</th>\n",
       "      <td>64.8</td>\n",
       "      <td>0.90</td>\n",
       "      <td>0.010</td>\n",
       "      <td>0.5</td>\n",
       "      <td>1000000.0</td>\n",
       "      <td>63.1</td>\n",
       "      <td>64.0</td>\n",
       "      <td>66.8</td>\n",
       "      <td>62.0</td>\n",
       "      <td>64.14</td>\n",
       "      <td>1.816040</td>\n",
       "      <td>66.8</td>\n",
       "    </tr>\n",
       "    <tr>\n",
       "      <th>5</th>\n",
       "      <td>50.9</td>\n",
       "      <td>0.90</td>\n",
       "      <td>0.001</td>\n",
       "      <td>0.5</td>\n",
       "      <td>1000000.0</td>\n",
       "      <td>51.9</td>\n",
       "      <td>52.4</td>\n",
       "      <td>54.0</td>\n",
       "      <td>52.0</td>\n",
       "      <td>52.24</td>\n",
       "      <td>1.128273</td>\n",
       "      <td>54.0</td>\n",
       "    </tr>\n",
       "    <tr>\n",
       "      <th>7</th>\n",
       "      <td>68.3</td>\n",
       "      <td>0.99</td>\n",
       "      <td>0.010</td>\n",
       "      <td>0.5</td>\n",
       "      <td>1000000.0</td>\n",
       "      <td>68.0</td>\n",
       "      <td>67.2</td>\n",
       "      <td>67.8</td>\n",
       "      <td>66.0</td>\n",
       "      <td>67.46</td>\n",
       "      <td>0.909945</td>\n",
       "      <td>68.3</td>\n",
       "    </tr>\n",
       "    <tr>\n",
       "      <th>8</th>\n",
       "      <td>0.0</td>\n",
       "      <td>0.99</td>\n",
       "      <td>0.001</td>\n",
       "      <td>0.5</td>\n",
       "      <td>1000000.0</td>\n",
       "      <td>0.0</td>\n",
       "      <td>0.0</td>\n",
       "      <td>0.0</td>\n",
       "      <td>0.0</td>\n",
       "      <td>0.00</td>\n",
       "      <td>0.000000</td>\n",
       "      <td>0.0</td>\n",
       "    </tr>\n",
       "    <tr>\n",
       "      <th>9</th>\n",
       "      <td>27.3</td>\n",
       "      <td>0.50</td>\n",
       "      <td>0.100</td>\n",
       "      <td>1.0</td>\n",
       "      <td>1000000.0</td>\n",
       "      <td>26.9</td>\n",
       "      <td>24.3</td>\n",
       "      <td>24.6</td>\n",
       "      <td>26.7</td>\n",
       "      <td>25.96</td>\n",
       "      <td>1.399286</td>\n",
       "      <td>27.3</td>\n",
       "    </tr>\n",
       "    <tr>\n",
       "      <th>10</th>\n",
       "      <td>46.5</td>\n",
       "      <td>0.50</td>\n",
       "      <td>0.010</td>\n",
       "      <td>1.0</td>\n",
       "      <td>1000000.0</td>\n",
       "      <td>44.3</td>\n",
       "      <td>45.0</td>\n",
       "      <td>44.3</td>\n",
       "      <td>44.1</td>\n",
       "      <td>44.84</td>\n",
       "      <td>0.988939</td>\n",
       "      <td>46.5</td>\n",
       "    </tr>\n",
       "    <tr>\n",
       "      <th>11</th>\n",
       "      <td>82.6</td>\n",
       "      <td>0.50</td>\n",
       "      <td>0.001</td>\n",
       "      <td>1.0</td>\n",
       "      <td>1000000.0</td>\n",
       "      <td>82.3</td>\n",
       "      <td>82.0</td>\n",
       "      <td>83.0</td>\n",
       "      <td>81.3</td>\n",
       "      <td>82.24</td>\n",
       "      <td>0.642651</td>\n",
       "      <td>83.0</td>\n",
       "    </tr>\n",
       "    <tr>\n",
       "      <th>12</th>\n",
       "      <td>77.8</td>\n",
       "      <td>0.90</td>\n",
       "      <td>0.100</td>\n",
       "      <td>1.0</td>\n",
       "      <td>1000000.0</td>\n",
       "      <td>78.4</td>\n",
       "      <td>77.6</td>\n",
       "      <td>76.9</td>\n",
       "      <td>76.8</td>\n",
       "      <td>77.50</td>\n",
       "      <td>0.663325</td>\n",
       "      <td>78.4</td>\n",
       "    </tr>\n",
       "    <tr>\n",
       "      <th>13</th>\n",
       "      <td>33.2</td>\n",
       "      <td>0.90</td>\n",
       "      <td>0.010</td>\n",
       "      <td>1.0</td>\n",
       "      <td>1000000.0</td>\n",
       "      <td>35.6</td>\n",
       "      <td>34.9</td>\n",
       "      <td>37.9</td>\n",
       "      <td>36.4</td>\n",
       "      <td>35.60</td>\n",
       "      <td>1.744993</td>\n",
       "      <td>37.9</td>\n",
       "    </tr>\n",
       "    <tr>\n",
       "      <th>14</th>\n",
       "      <td>47.9</td>\n",
       "      <td>0.90</td>\n",
       "      <td>0.001</td>\n",
       "      <td>1.0</td>\n",
       "      <td>1000000.0</td>\n",
       "      <td>48.1</td>\n",
       "      <td>47.8</td>\n",
       "      <td>46.4</td>\n",
       "      <td>44.4</td>\n",
       "      <td>46.92</td>\n",
       "      <td>1.561089</td>\n",
       "      <td>48.1</td>\n",
       "    </tr>\n",
       "    <tr>\n",
       "      <th>15</th>\n",
       "      <td>54.4</td>\n",
       "      <td>0.99</td>\n",
       "      <td>0.100</td>\n",
       "      <td>1.0</td>\n",
       "      <td>1000000.0</td>\n",
       "      <td>53.5</td>\n",
       "      <td>51.5</td>\n",
       "      <td>52.1</td>\n",
       "      <td>53.7</td>\n",
       "      <td>53.04</td>\n",
       "      <td>1.199166</td>\n",
       "      <td>54.4</td>\n",
       "    </tr>\n",
       "    <tr>\n",
       "      <th>16</th>\n",
       "      <td>66.3</td>\n",
       "      <td>0.99</td>\n",
       "      <td>0.010</td>\n",
       "      <td>1.0</td>\n",
       "      <td>1000000.0</td>\n",
       "      <td>63.1</td>\n",
       "      <td>65.1</td>\n",
       "      <td>65.2</td>\n",
       "      <td>62.7</td>\n",
       "      <td>64.48</td>\n",
       "      <td>1.523811</td>\n",
       "      <td>66.3</td>\n",
       "    </tr>\n",
       "    <tr>\n",
       "      <th>17</th>\n",
       "      <td>64.1</td>\n",
       "      <td>0.99</td>\n",
       "      <td>0.001</td>\n",
       "      <td>1.0</td>\n",
       "      <td>1000000.0</td>\n",
       "      <td>63.9</td>\n",
       "      <td>63.3</td>\n",
       "      <td>65.8</td>\n",
       "      <td>61.9</td>\n",
       "      <td>63.80</td>\n",
       "      <td>1.410674</td>\n",
       "      <td>65.8</td>\n",
       "    </tr>\n",
       "    <tr>\n",
       "      <th>18</th>\n",
       "      <td>84.5</td>\n",
       "      <td>0.50</td>\n",
       "      <td>0.100</td>\n",
       "      <td>0.5</td>\n",
       "      <td>10000000.0</td>\n",
       "      <td>79.6</td>\n",
       "      <td>83.0</td>\n",
       "      <td>81.1</td>\n",
       "      <td>83.2</td>\n",
       "      <td>82.28</td>\n",
       "      <td>1.927952</td>\n",
       "      <td>84.5</td>\n",
       "    </tr>\n",
       "    <tr>\n",
       "      <th>19</th>\n",
       "      <td>81.9</td>\n",
       "      <td>0.50</td>\n",
       "      <td>0.010</td>\n",
       "      <td>0.5</td>\n",
       "      <td>10000000.0</td>\n",
       "      <td>82.7</td>\n",
       "      <td>83.4</td>\n",
       "      <td>84.1</td>\n",
       "      <td>81.6</td>\n",
       "      <td>82.74</td>\n",
       "      <td>1.035857</td>\n",
       "      <td>84.1</td>\n",
       "    </tr>\n",
       "    <tr>\n",
       "      <th>20</th>\n",
       "      <td>70.4</td>\n",
       "      <td>0.50</td>\n",
       "      <td>0.001</td>\n",
       "      <td>0.5</td>\n",
       "      <td>10000000.0</td>\n",
       "      <td>69.6</td>\n",
       "      <td>70.8</td>\n",
       "      <td>73.1</td>\n",
       "      <td>70.9</td>\n",
       "      <td>70.96</td>\n",
       "      <td>1.301153</td>\n",
       "      <td>73.1</td>\n",
       "    </tr>\n",
       "    <tr>\n",
       "      <th>21</th>\n",
       "      <td>49.8</td>\n",
       "      <td>0.90</td>\n",
       "      <td>0.100</td>\n",
       "      <td>0.5</td>\n",
       "      <td>10000000.0</td>\n",
       "      <td>50.9</td>\n",
       "      <td>51.0</td>\n",
       "      <td>53.8</td>\n",
       "      <td>52.6</td>\n",
       "      <td>51.62</td>\n",
       "      <td>1.575436</td>\n",
       "      <td>53.8</td>\n",
       "    </tr>\n",
       "    <tr>\n",
       "      <th>22</th>\n",
       "      <td>42.4</td>\n",
       "      <td>0.90</td>\n",
       "      <td>0.010</td>\n",
       "      <td>0.5</td>\n",
       "      <td>10000000.0</td>\n",
       "      <td>39.0</td>\n",
       "      <td>41.6</td>\n",
       "      <td>43.4</td>\n",
       "      <td>40.6</td>\n",
       "      <td>41.40</td>\n",
       "      <td>1.691153</td>\n",
       "      <td>43.4</td>\n",
       "    </tr>\n",
       "    <tr>\n",
       "      <th>23</th>\n",
       "      <td>45.9</td>\n",
       "      <td>0.90</td>\n",
       "      <td>0.001</td>\n",
       "      <td>0.5</td>\n",
       "      <td>10000000.0</td>\n",
       "      <td>46.4</td>\n",
       "      <td>43.2</td>\n",
       "      <td>46.3</td>\n",
       "      <td>44.3</td>\n",
       "      <td>45.22</td>\n",
       "      <td>1.409610</td>\n",
       "      <td>46.4</td>\n",
       "    </tr>\n",
       "    <tr>\n",
       "      <th>24</th>\n",
       "      <td>42.2</td>\n",
       "      <td>0.99</td>\n",
       "      <td>0.100</td>\n",
       "      <td>0.5</td>\n",
       "      <td>10000000.0</td>\n",
       "      <td>40.9</td>\n",
       "      <td>44.9</td>\n",
       "      <td>44.2</td>\n",
       "      <td>40.1</td>\n",
       "      <td>42.46</td>\n",
       "      <td>2.064703</td>\n",
       "      <td>44.9</td>\n",
       "    </tr>\n",
       "    <tr>\n",
       "      <th>25</th>\n",
       "      <td>54.2</td>\n",
       "      <td>0.99</td>\n",
       "      <td>0.010</td>\n",
       "      <td>0.5</td>\n",
       "      <td>10000000.0</td>\n",
       "      <td>53.2</td>\n",
       "      <td>52.4</td>\n",
       "      <td>52.5</td>\n",
       "      <td>50.1</td>\n",
       "      <td>52.48</td>\n",
       "      <td>1.512283</td>\n",
       "      <td>54.2</td>\n",
       "    </tr>\n",
       "    <tr>\n",
       "      <th>26</th>\n",
       "      <td>53.4</td>\n",
       "      <td>0.99</td>\n",
       "      <td>0.001</td>\n",
       "      <td>0.5</td>\n",
       "      <td>10000000.0</td>\n",
       "      <td>51.1</td>\n",
       "      <td>52.6</td>\n",
       "      <td>53.3</td>\n",
       "      <td>53.0</td>\n",
       "      <td>52.68</td>\n",
       "      <td>0.936483</td>\n",
       "      <td>53.4</td>\n",
       "    </tr>\n",
       "    <tr>\n",
       "      <th>27</th>\n",
       "      <td>73.4</td>\n",
       "      <td>0.50</td>\n",
       "      <td>0.100</td>\n",
       "      <td>1.0</td>\n",
       "      <td>10000000.0</td>\n",
       "      <td>73.6</td>\n",
       "      <td>72.0</td>\n",
       "      <td>70.8</td>\n",
       "      <td>75.5</td>\n",
       "      <td>73.06</td>\n",
       "      <td>1.774260</td>\n",
       "      <td>75.5</td>\n",
       "    </tr>\n",
       "    <tr>\n",
       "      <th>28</th>\n",
       "      <td>74.3</td>\n",
       "      <td>0.50</td>\n",
       "      <td>0.010</td>\n",
       "      <td>1.0</td>\n",
       "      <td>10000000.0</td>\n",
       "      <td>73.4</td>\n",
       "      <td>70.0</td>\n",
       "      <td>74.4</td>\n",
       "      <td>73.3</td>\n",
       "      <td>73.08</td>\n",
       "      <td>1.793600</td>\n",
       "      <td>74.4</td>\n",
       "    </tr>\n",
       "    <tr>\n",
       "      <th>29</th>\n",
       "      <td>83.5</td>\n",
       "      <td>0.50</td>\n",
       "      <td>0.001</td>\n",
       "      <td>1.0</td>\n",
       "      <td>10000000.0</td>\n",
       "      <td>80.3</td>\n",
       "      <td>80.0</td>\n",
       "      <td>83.9</td>\n",
       "      <td>80.7</td>\n",
       "      <td>81.68</td>\n",
       "      <td>1.866012</td>\n",
       "      <td>83.9</td>\n",
       "    </tr>\n",
       "    <tr>\n",
       "      <th>30</th>\n",
       "      <td>44.6</td>\n",
       "      <td>0.90</td>\n",
       "      <td>0.100</td>\n",
       "      <td>1.0</td>\n",
       "      <td>10000000.0</td>\n",
       "      <td>48.2</td>\n",
       "      <td>47.7</td>\n",
       "      <td>45.0</td>\n",
       "      <td>46.3</td>\n",
       "      <td>46.36</td>\n",
       "      <td>1.591540</td>\n",
       "      <td>48.2</td>\n",
       "    </tr>\n",
       "    <tr>\n",
       "      <th>31</th>\n",
       "      <td>53.9</td>\n",
       "      <td>0.90</td>\n",
       "      <td>0.010</td>\n",
       "      <td>1.0</td>\n",
       "      <td>10000000.0</td>\n",
       "      <td>52.8</td>\n",
       "      <td>52.8</td>\n",
       "      <td>51.0</td>\n",
       "      <td>52.9</td>\n",
       "      <td>52.68</td>\n",
       "      <td>1.047378</td>\n",
       "      <td>53.9</td>\n",
       "    </tr>\n",
       "    <tr>\n",
       "      <th>32</th>\n",
       "      <td>52.5</td>\n",
       "      <td>0.90</td>\n",
       "      <td>0.001</td>\n",
       "      <td>1.0</td>\n",
       "      <td>10000000.0</td>\n",
       "      <td>50.3</td>\n",
       "      <td>53.9</td>\n",
       "      <td>49.6</td>\n",
       "      <td>52.4</td>\n",
       "      <td>51.74</td>\n",
       "      <td>1.755847</td>\n",
       "      <td>53.9</td>\n",
       "    </tr>\n",
       "    <tr>\n",
       "      <th>33</th>\n",
       "      <td>51.2</td>\n",
       "      <td>0.99</td>\n",
       "      <td>0.100</td>\n",
       "      <td>1.0</td>\n",
       "      <td>10000000.0</td>\n",
       "      <td>51.7</td>\n",
       "      <td>53.3</td>\n",
       "      <td>52.0</td>\n",
       "      <td>50.7</td>\n",
       "      <td>51.78</td>\n",
       "      <td>0.983362</td>\n",
       "      <td>53.3</td>\n",
       "    </tr>\n",
       "    <tr>\n",
       "      <th>34</th>\n",
       "      <td>46.0</td>\n",
       "      <td>0.99</td>\n",
       "      <td>0.010</td>\n",
       "      <td>1.0</td>\n",
       "      <td>10000000.0</td>\n",
       "      <td>47.4</td>\n",
       "      <td>44.7</td>\n",
       "      <td>45.2</td>\n",
       "      <td>45.8</td>\n",
       "      <td>45.82</td>\n",
       "      <td>1.020784</td>\n",
       "      <td>47.4</td>\n",
       "    </tr>\n",
       "    <tr>\n",
       "      <th>35</th>\n",
       "      <td>43.1</td>\n",
       "      <td>0.99</td>\n",
       "      <td>0.001</td>\n",
       "      <td>1.0</td>\n",
       "      <td>10000000.0</td>\n",
       "      <td>42.4</td>\n",
       "      <td>43.5</td>\n",
       "      <td>44.3</td>\n",
       "      <td>41.3</td>\n",
       "      <td>42.92</td>\n",
       "      <td>1.136662</td>\n",
       "      <td>44.3</td>\n",
       "    </tr>\n",
       "  </tbody>\n",
       "</table>\n",
       "</div>"
      ],
      "text/plain": [
       "    Success_Rate_0  Gamma  Alpha  Epsilon  Iterations  Success_Rate_1  \\\n",
       "0             68.8   0.50  0.100      0.5   1000000.0            71.7   \n",
       "1             51.7   0.50  0.010      0.5   1000000.0            51.9   \n",
       "2             51.5   0.50  0.001      0.5   1000000.0            49.3   \n",
       "3             51.3   0.90  0.100      0.5   1000000.0            50.4   \n",
       "4             64.8   0.90  0.010      0.5   1000000.0            63.1   \n",
       "5             50.9   0.90  0.001      0.5   1000000.0            51.9   \n",
       "7             68.3   0.99  0.010      0.5   1000000.0            68.0   \n",
       "8              0.0   0.99  0.001      0.5   1000000.0             0.0   \n",
       "9             27.3   0.50  0.100      1.0   1000000.0            26.9   \n",
       "10            46.5   0.50  0.010      1.0   1000000.0            44.3   \n",
       "11            82.6   0.50  0.001      1.0   1000000.0            82.3   \n",
       "12            77.8   0.90  0.100      1.0   1000000.0            78.4   \n",
       "13            33.2   0.90  0.010      1.0   1000000.0            35.6   \n",
       "14            47.9   0.90  0.001      1.0   1000000.0            48.1   \n",
       "15            54.4   0.99  0.100      1.0   1000000.0            53.5   \n",
       "16            66.3   0.99  0.010      1.0   1000000.0            63.1   \n",
       "17            64.1   0.99  0.001      1.0   1000000.0            63.9   \n",
       "18            84.5   0.50  0.100      0.5  10000000.0            79.6   \n",
       "19            81.9   0.50  0.010      0.5  10000000.0            82.7   \n",
       "20            70.4   0.50  0.001      0.5  10000000.0            69.6   \n",
       "21            49.8   0.90  0.100      0.5  10000000.0            50.9   \n",
       "22            42.4   0.90  0.010      0.5  10000000.0            39.0   \n",
       "23            45.9   0.90  0.001      0.5  10000000.0            46.4   \n",
       "24            42.2   0.99  0.100      0.5  10000000.0            40.9   \n",
       "25            54.2   0.99  0.010      0.5  10000000.0            53.2   \n",
       "26            53.4   0.99  0.001      0.5  10000000.0            51.1   \n",
       "27            73.4   0.50  0.100      1.0  10000000.0            73.6   \n",
       "28            74.3   0.50  0.010      1.0  10000000.0            73.4   \n",
       "29            83.5   0.50  0.001      1.0  10000000.0            80.3   \n",
       "30            44.6   0.90  0.100      1.0  10000000.0            48.2   \n",
       "31            53.9   0.90  0.010      1.0  10000000.0            52.8   \n",
       "32            52.5   0.90  0.001      1.0  10000000.0            50.3   \n",
       "33            51.2   0.99  0.100      1.0  10000000.0            51.7   \n",
       "34            46.0   0.99  0.010      1.0  10000000.0            47.4   \n",
       "35            43.1   0.99  0.001      1.0  10000000.0            42.4   \n",
       "\n",
       "    Success_Rate_2  Success_Rate_3  Success_Rate_4  Success_Mean  \\\n",
       "0             67.8            68.5            71.4         69.64   \n",
       "1             54.4            50.4            54.6         52.60   \n",
       "2             54.4            52.0            52.2         51.88   \n",
       "3             55.2            51.8            52.7         52.28   \n",
       "4             64.0            66.8            62.0         64.14   \n",
       "5             52.4            54.0            52.0         52.24   \n",
       "7             67.2            67.8            66.0         67.46   \n",
       "8              0.0             0.0             0.0          0.00   \n",
       "9             24.3            24.6            26.7         25.96   \n",
       "10            45.0            44.3            44.1         44.84   \n",
       "11            82.0            83.0            81.3         82.24   \n",
       "12            77.6            76.9            76.8         77.50   \n",
       "13            34.9            37.9            36.4         35.60   \n",
       "14            47.8            46.4            44.4         46.92   \n",
       "15            51.5            52.1            53.7         53.04   \n",
       "16            65.1            65.2            62.7         64.48   \n",
       "17            63.3            65.8            61.9         63.80   \n",
       "18            83.0            81.1            83.2         82.28   \n",
       "19            83.4            84.1            81.6         82.74   \n",
       "20            70.8            73.1            70.9         70.96   \n",
       "21            51.0            53.8            52.6         51.62   \n",
       "22            41.6            43.4            40.6         41.40   \n",
       "23            43.2            46.3            44.3         45.22   \n",
       "24            44.9            44.2            40.1         42.46   \n",
       "25            52.4            52.5            50.1         52.48   \n",
       "26            52.6            53.3            53.0         52.68   \n",
       "27            72.0            70.8            75.5         73.06   \n",
       "28            70.0            74.4            73.3         73.08   \n",
       "29            80.0            83.9            80.7         81.68   \n",
       "30            47.7            45.0            46.3         46.36   \n",
       "31            52.8            51.0            52.9         52.68   \n",
       "32            53.9            49.6            52.4         51.74   \n",
       "33            53.3            52.0            50.7         51.78   \n",
       "34            44.7            45.2            45.8         45.82   \n",
       "35            43.5            44.3            41.3         42.92   \n",
       "\n",
       "    Success_StdDev  Success_Max  \n",
       "0         1.784096         71.7  \n",
       "1         1.828934         54.6  \n",
       "2         1.821263         54.4  \n",
       "3         1.832212         55.2  \n",
       "4         1.816040         66.8  \n",
       "5         1.128273         54.0  \n",
       "7         0.909945         68.3  \n",
       "8         0.000000          0.0  \n",
       "9         1.399286         27.3  \n",
       "10        0.988939         46.5  \n",
       "11        0.642651         83.0  \n",
       "12        0.663325         78.4  \n",
       "13        1.744993         37.9  \n",
       "14        1.561089         48.1  \n",
       "15        1.199166         54.4  \n",
       "16        1.523811         66.3  \n",
       "17        1.410674         65.8  \n",
       "18        1.927952         84.5  \n",
       "19        1.035857         84.1  \n",
       "20        1.301153         73.1  \n",
       "21        1.575436         53.8  \n",
       "22        1.691153         43.4  \n",
       "23        1.409610         46.4  \n",
       "24        2.064703         44.9  \n",
       "25        1.512283         54.2  \n",
       "26        0.936483         53.4  \n",
       "27        1.774260         75.5  \n",
       "28        1.793600         74.4  \n",
       "29        1.866012         83.9  \n",
       "30        1.591540         48.2  \n",
       "31        1.047378         53.9  \n",
       "32        1.755847         53.9  \n",
       "33        0.983362         53.3  \n",
       "34        1.020784         47.4  \n",
       "35        1.136662         44.3  "
      ]
     },
     "execution_count": 146,
     "metadata": {},
     "output_type": "execute_result"
    }
   ],
   "source": [
    "applied_df_full_1 = applied_df_full_1.loc[:,~applied_df_full_1.columns.duplicated()].copy()\n",
    "\n",
    "\n",
    "applied_df_full_1['Success_Mean'] = applied_df_full_1.loc[:, [\"Success_Rate_0\",\"Success_Rate_1\",\"Success_Rate_2\",\"Success_Rate_3\",\"Success_Rate_4\"]].mean(axis = 1)\n",
    "applied_df_full_1['Success_StdDev'] = applied_df_full_1.loc[:, [\"Success_Rate_0\",\"Success_Rate_1\",\"Success_Rate_2\",\"Success_Rate_3\",\"Success_Rate_4\"]].std(axis = 1)\n",
    "applied_df_full_1['Success_Max'] = applied_df_full_1.loc[:, [\"Success_Rate_0\",\"Success_Rate_1\",\"Success_Rate_2\",\"Success_Rate_3\",\"Success_Rate_4\"]].max(axis = 1)\n",
    "applied_df_full_1"
   ]
  },
  {
   "cell_type": "code",
   "execution_count": 139,
   "id": "4cc6dd0b",
   "metadata": {},
   "outputs": [
    {
     "data": {
      "text/plain": [
       "<matplotlib.legend.Legend at 0x16981b85b50>"
      ]
     },
     "execution_count": 139,
     "metadata": {},
     "output_type": "execute_result"
    },
    {
     "data": {
      "image/png": "[encoded data removed]",
      "text/plain": [
       "<Figure size 640x480 with 1 Axes>"
      ]
     },
     "metadata": {},
     "output_type": "display_data"
    }
   ],
   "source": [
    "a1 = applied_df_full_1[applied_df_full_1['Iterations']==1000000]\n",
    "a2 = applied_df_full_1[applied_df_full_1['Iterations']==10000000]\n",
    "\n",
    "plt.plot(a1['Iterations'],a1['Success_Mean'],linewidth =7,color=\"orange\", label='1e6')\n",
    "#plt.fill_between(a1['Iterations'], a1['Success_Mean']+a1['Success_StdDev'],a1['Success_Mean']-a1['Success_StdDev'], alpha=0.2, color=\"blue\")\n",
    "\n",
    "\n",
    "plt.plot(a2['Iterations'],a2['Success_Mean'],linewidth =7,color=\"blue\", label='1e7')\n",
    "#plt.fill_between(a2['Iterations'], a2['Success_Mean']+a2['Success_StdDev'],a2['Success_Mean']-a2['Success_StdDev'], alpha=0.2, color=\"orange\")\n",
    "\n",
    "plt.xlabel('Iterations',fontsize = 16)\n",
    "plt.ylabel('Success Rate [%]',fontsize = 16)\n",
    "plt.xticks(fontsize = 14)\n",
    "plt.yticks(fontsize = 14)\n",
    "plt.xscale('log')\n",
    "plt.title('FL - Small - QL - Iterations vs Success Rate', fontsize=16)\n",
    "# plt.legend(title=\"Hyperparameters\", bbox_to_anchor=(1, 1.05),prop={'size': 14})\n",
    "plt.legend(title=\"Iterations\",title_fontsize=12, loc=\"best\",prop={'size': 14})"
   ]
  },
  {
   "cell_type": "code",
   "execution_count": 163,
   "id": "12489d40",
   "metadata": {},
   "outputs": [
    {
     "name": "stderr",
     "output_type": "stream",
     "text": [
      "C:\\Users\\UGGTech\\anaconda3\\lib\\site-packages\\plotly\\express\\_core.py:279: FutureWarning:\n",
      "\n",
      "iteritems is deprecated and will be removed in a future version. Use .items instead.\n",
      "\n"
     ]
    },
    {
     "data": {
      "application/vnd.plotly.v1+json": {
       "config": {
        "plotlyServerURL": "https://plot.ly"
       },
       "data": [
        {
         "dimensions": [
          {
           "label": "Iterations",
           "values": [
            1000000,
            1000000,
            1000000,
            1000000,
            1000000,
            1000000,
            1000000,
            1000000,
            1000000,
            1000000,
            1000000,
            1000000,
            1000000,
            1000000,
            1000000,
            1000000,
            1000000,
            10000000,
            10000000,
            10000000,
            10000000,
            10000000,
            10000000,
            10000000,
            10000000,
            10000000,
            10000000,
            10000000,
            10000000,
            10000000,
            10000000,
            10000000,
            10000000,
            10000000,
            10000000
           ]
          },
          {
           "label": "Alpha",
           "values": [
            0.1,
            0.01,
            0.001,
            0.1,
            0.01,
            0.001,
            0.01,
            0.001,
            0.1,
            0.01,
            0.001,
            0.1,
            0.01,
            0.001,
            0.1,
            0.01,
            0.001,
            0.1,
            0.01,
            0.001,
            0.1,
            0.01,
            0.001,
            0.1,
            0.01,
            0.001,
            0.1,
            0.01,
            0.001,
            0.1,
            0.01,
            0.001,
            0.1,
            0.01,
            0.001
           ]
          },
          {
           "label": "Epsilon",
           "values": [
            0.5,
            0.5,
            0.5,
            0.5,
            0.5,
            0.5,
            0.5,
            0.5,
            1,
            1,
            1,
            1,
            1,
            1,
            1,
            1,
            1,
            0.5,
            0.5,
            0.5,
            0.5,
            0.5,
            0.5,
            0.5,
            0.5,
            0.5,
            1,
            1,
            1,
            1,
            1,
            1,
            1,
            1,
            1
           ]
          },
          {
           "label": "Gamma",
           "values": [
            0.5,
            0.5,
            0.5,
            0.9,
            0.9,
            0.9,
            0.99,
            0.99,
            0.5,
            0.5,
            0.5,
            0.9,
            0.9,
            0.9,
            0.99,
            0.99,
            0.99,
            0.5,
            0.5,
            0.5,
            0.9,
            0.9,
            0.9,
            0.99,
            0.99,
            0.99,
            0.5,
            0.5,
            0.5,
            0.9,
            0.9,
            0.9,
            0.99,
            0.99,
            0.99
           ]
          },
          {
           "label": "Success_Mean",
           "values": [
            69.64000000000001,
            52.6,
            51.879999999999995,
            52.28000000000001,
            64.14,
            52.239999999999995,
            67.46000000000001,
            0,
            25.96,
            44.83999999999999,
            82.24,
            77.5,
            35.6,
            46.92,
            53.04,
            64.47999999999999,
            63.8,
            82.28,
            82.74000000000001,
            70.96,
            51.620000000000005,
            41.4,
            45.220000000000006,
            42.459999999999994,
            52.480000000000004,
            52.67999999999999,
            73.06,
            73.08000000000001,
            81.68,
            46.35999999999999,
            52.67999999999999,
            51.739999999999995,
            51.779999999999994,
            45.81999999999999,
            42.92
           ]
          }
         ],
         "domain": {
          "x": [
           0,
           1
          ],
          "y": [
           0,
           1
          ]
         },
         "line": {
          "color": [
           0.1,
           0.01,
           0.001,
           0.1,
           0.01,
           0.001,
           0.01,
           0.001,
           0.1,
           0.01,
           0.001,
           0.1,
           0.01,
           0.001,
           0.1,
           0.01,
           0.001,
           0.1,
           0.01,
           0.001,
           0.1,
           0.01,
           0.001,
           0.1,
           0.01,
           0.001,
           0.1,
           0.01,
           0.001,
           0.1,
           0.01,
           0.001,
           0.1,
           0.01,
           0.001
          ],
          "coloraxis": "coloraxis"
         },
         "name": "",
         "type": "parcoords"
        }
       ],
       "layout": {
        "coloraxis": {
         "cmid": 2,
         "colorbar": {
          "title": {
           "text": "Alpha"
          }
         },
         "colorscale": [
          [
           0,
           "#0d0887"
          ],
          [
           0.1111111111111111,
           "#46039f"
          ],
          [
           0.2222222222222222,
           "#7201a8"
          ],
          [
           0.3333333333333333,
           "#9c179e"
          ],
          [
           0.4444444444444444,
           "#bd3786"
          ],
          [
           0.5555555555555556,
           "#d8576b"
          ],
          [
           0.6666666666666666,
           "#ed7953"
          ],
          [
           0.7777777777777778,
           "#fb9f3a"
          ],
          [
           0.8888888888888888,
           "#fdca26"
          ],
          [
           1,
           "#f0f921"
          ]
         ]
        },
        "legend": {
         "tracegroupgap": 0
        },
        "margin": {
         "t": 60
        },
        "template": {
         "data": {
          "bar": [
           {
            "error_x": {
             "color": "#2a3f5f"
            },
            "error_y": {
             "color": "#2a3f5f"
            },
            "marker": {
             "line": {
              "color": "#E5ECF6",
              "width": 0.5
             },
             "pattern": {
              "fillmode": "overlay",
              "size": 10,
              "solidity": 0.2
             }
            },
            "type": "bar"
           }
          ],
          "barpolar": [
           {
            "marker": {
             "line": {
              "color": "#E5ECF6",
              "width": 0.5
             },
             "pattern": {
              "fillmode": "overlay",
              "size": 10,
              "solidity": 0.2
             }
            },
            "type": "barpolar"
           }
          ],
          "carpet": [
           {
            "aaxis": {
             "endlinecolor": "#2a3f5f",
             "gridcolor": "white",
             "linecolor": "white",
             "minorgridcolor": "white",
             "startlinecolor": "#2a3f5f"
            },
            "baxis": {
             "endlinecolor": "#2a3f5f",
             "gridcolor": "white",
             "linecolor": "white",
             "minorgridcolor": "white",
             "startlinecolor": "#2a3f5f"
            },
            "type": "carpet"
           }
          ],
          "choropleth": [
           {
            "colorbar": {
             "outlinewidth": 0,
             "ticks": ""
            },
            "type": "choropleth"
           }
          ],
          "contour": [
           {
            "colorbar": {
             "outlinewidth": 0,
             "ticks": ""
            },
            "colorscale": [
             [
              0,
              "#0d0887"
             ],
             [
              0.1111111111111111,
              "#46039f"
             ],
             [
              0.2222222222222222,
              "#7201a8"
             ],
             [
              0.3333333333333333,
              "#9c179e"
             ],
             [
              0.4444444444444444,
              "#bd3786"
             ],
             [
              0.5555555555555556,
              "#d8576b"
             ],
             [
              0.6666666666666666,
              "#ed7953"
             ],
             [
              0.7777777777777778,
              "#fb9f3a"
             ],
             [
              0.8888888888888888,
              "#fdca26"
             ],
             [
              1,
              "#f0f921"
             ]
            ],
            "type": "contour"
           }
          ],
          "contourcarpet": [
           {
            "colorbar": {
             "outlinewidth": 0,
             "ticks": ""
            },
            "type": "contourcarpet"
           }
          ],
          "heatmap": [
           {
            "colorbar": {
             "outlinewidth": 0,
             "ticks": ""
            },
            "colorscale": [
             [
              0,
              "#0d0887"
             ],
             [
              0.1111111111111111,
              "#46039f"
             ],
             [
              0.2222222222222222,
              "#7201a8"
             ],
             [
              0.3333333333333333,
              "#9c179e"
             ],
             [
              0.4444444444444444,
              "#bd3786"
             ],
             [
              0.5555555555555556,
              "#d8576b"
             ],
             [
              0.6666666666666666,
              "#ed7953"
             ],
             [
              0.7777777777777778,
              "#fb9f3a"
             ],
             [
              0.8888888888888888,
              "#fdca26"
             ],
             [
              1,
              "#f0f921"
             ]
            ],
            "type": "heatmap"
           }
          ],
          "heatmapgl": [
           {
            "colorbar": {
             "outlinewidth": 0,
             "ticks": ""
            },
            "colorscale": [
             [
              0,
              "#0d0887"
             ],
             [
              0.1111111111111111,
              "#46039f"
             ],
             [
              0.2222222222222222,
              "#7201a8"
             ],
             [
              0.3333333333333333,
              "#9c179e"
             ],
             [
              0.4444444444444444,
              "#bd3786"
             ],
             [
              0.5555555555555556,
              "#d8576b"
             ],
             [
              0.6666666666666666,
              "#ed7953"
             ],
             [
              0.7777777777777778,
              "#fb9f3a"
             ],
             [
              0.8888888888888888,
              "#fdca26"
             ],
             [
              1,
              "#f0f921"
             ]
            ],
            "type": "heatmapgl"
           }
          ],
          "histogram": [
           {
            "marker": {
             "pattern": {
              "fillmode": "overlay",
              "size": 10,
              "solidity": 0.2
             }
            },
            "type": "histogram"
           }
          ],
          "histogram2d": [
           {
            "colorbar": {
             "outlinewidth": 0,
             "ticks": ""
            },
            "colorscale": [
             [
              0,
              "#0d0887"
             ],
             [
              0.1111111111111111,
              "#46039f"
             ],
             [
              0.2222222222222222,
              "#7201a8"
             ],
             [
              0.3333333333333333,
              "#9c179e"
             ],
             [
              0.4444444444444444,
              "#bd3786"
             ],
             [
              0.5555555555555556,
              "#d8576b"
             ],
             [
              0.6666666666666666,
              "#ed7953"
             ],
             [
              0.7777777777777778,
              "#fb9f3a"
             ],
             [
              0.8888888888888888,
              "#fdca26"
             ],
             [
              1,
              "#f0f921"
             ]
            ],
            "type": "histogram2d"
           }
          ],
          "histogram2dcontour": [
           {
            "colorbar": {
             "outlinewidth": 0,
             "ticks": ""
            },
            "colorscale": [
             [
              0,
              "#0d0887"
             ],
             [
              0.1111111111111111,
              "#46039f"
             ],
             [
              0.2222222222222222,
              "#7201a8"
             ],
             [
              0.3333333333333333,
              "#9c179e"
             ],
             [
              0.4444444444444444,
              "#bd3786"
             ],
             [
              0.5555555555555556,
              "#d8576b"
             ],
             [
              0.6666666666666666,
              "#ed7953"
             ],
             [
              0.7777777777777778,
              "#fb9f3a"
             ],
             [
              0.8888888888888888,
              "#fdca26"
             ],
             [
              1,
              "#f0f921"
             ]
            ],
            "type": "histogram2dcontour"
           }
          ],
          "mesh3d": [
           {
            "colorbar": {
             "outlinewidth": 0,
             "ticks": ""
            },
            "type": "mesh3d"
           }
          ],
          "parcoords": [
           {
            "line": {
             "colorbar": {
              "outlinewidth": 0,
              "ticks": ""
             }
            },
            "type": "parcoords"
           }
          ],
          "pie": [
           {
            "automargin": true,
            "type": "pie"
           }
          ],
          "scatter": [
           {
            "fillpattern": {
             "fillmode": "overlay",
             "size": 10,
             "solidity": 0.2
            },
            "type": "scatter"
           }
          ],
          "scatter3d": [
           {
            "line": {
             "colorbar": {
              "outlinewidth": 0,
              "ticks": ""
             }
            },
            "marker": {
             "colorbar": {
              "outlinewidth": 0,
              "ticks": ""
             }
            },
            "type": "scatter3d"
           }
          ],
          "scattercarpet": [
           {
            "marker": {
             "colorbar": {
              "outlinewidth": 0,
              "ticks": ""
             }
            },
            "type": "scattercarpet"
           }
          ],
          "scattergeo": [
           {
            "marker": {
             "colorbar": {
              "outlinewidth": 0,
              "ticks": ""
             }
            },
            "type": "scattergeo"
           }
          ],
          "scattergl": [
           {
            "marker": {
             "colorbar": {
              "outlinewidth": 0,
              "ticks": ""
             }
            },
            "type": "scattergl"
           }
          ],
          "scattermapbox": [
           {
            "marker": {
             "colorbar": {
              "outlinewidth": 0,
              "ticks": ""
             }
            },
            "type": "scattermapbox"
           }
          ],
          "scatterpolar": [
           {
            "marker": {
             "colorbar": {
              "outlinewidth": 0,
              "ticks": ""
             }
            },
            "type": "scatterpolar"
           }
          ],
          "scatterpolargl": [
           {
            "marker": {
             "colorbar": {
              "outlinewidth": 0,
              "ticks": ""
             }
            },
            "type": "scatterpolargl"
           }
          ],
          "scatterternary": [
           {
            "marker": {
             "colorbar": {
              "outlinewidth": 0,
              "ticks": ""
             }
            },
            "type": "scatterternary"
           }
          ],
          "surface": [
           {
            "colorbar": {
             "outlinewidth": 0,
             "ticks": ""
            },
            "colorscale": [
             [
              0,
              "#0d0887"
             ],
             [
              0.1111111111111111,
              "#46039f"
             ],
             [
              0.2222222222222222,
              "#7201a8"
             ],
             [
              0.3333333333333333,
              "#9c179e"
             ],
             [
              0.4444444444444444,
              "#bd3786"
             ],
             [
              0.5555555555555556,
              "#d8576b"
             ],
             [
              0.6666666666666666,
              "#ed7953"
             ],
             [
              0.7777777777777778,
              "#fb9f3a"
             ],
             [
              0.8888888888888888,
              "#fdca26"
             ],
             [
              1,
              "#f0f921"
             ]
            ],
            "type": "surface"
           }
          ],
          "table": [
           {
            "cells": {
             "fill": {
              "color": "#EBF0F8"
             },
             "line": {
              "color": "white"
             }
            },
            "header": {
             "fill": {
              "color": "#C8D4E3"
             },
             "line": {
              "color": "white"
             }
            },
            "type": "table"
           }
          ]
         },
         "layout": {
          "annotationdefaults": {
           "arrowcolor": "#2a3f5f",
           "arrowhead": 0,
           "arrowwidth": 1
          },
          "autotypenumbers": "strict",
          "coloraxis": {
           "colorbar": {
            "outlinewidth": 0,
            "ticks": ""
           }
          },
          "colorscale": {
           "diverging": [
            [
             0,
             "#8e0152"
            ],
            [
             0.1,
             "#c51b7d"
            ],
            [
             0.2,
             "#de77ae"
            ],
            [
             0.3,
             "#f1b6da"
            ],
            [
             0.4,
             "#fde0ef"
            ],
            [
             0.5,
             "#f7f7f7"
            ],
            [
             0.6,
             "#e6f5d0"
            ],
            [
             0.7,
             "#b8e186"
            ],
            [
             0.8,
             "#7fbc41"
            ],
            [
             0.9,
             "#4d9221"
            ],
            [
             1,
             "#276419"
            ]
           ],
           "sequential": [
            [
             0,
             "#0d0887"
            ],
            [
             0.1111111111111111,
             "#46039f"
            ],
            [
             0.2222222222222222,
             "#7201a8"
            ],
            [
             0.3333333333333333,
             "#9c179e"
            ],
            [
             0.4444444444444444,
             "#bd3786"
            ],
            [
             0.5555555555555556,
             "#d8576b"
            ],
            [
             0.6666666666666666,
             "#ed7953"
            ],
            [
             0.7777777777777778,
             "#fb9f3a"
            ],
            [
             0.8888888888888888,
             "#fdca26"
            ],
            [
             1,
             "#f0f921"
            ]
           ],
           "sequentialminus": [
            [
             0,
             "#0d0887"
            ],
            [
             0.1111111111111111,
             "#46039f"
            ],
            [
             0.2222222222222222,
             "#7201a8"
            ],
            [
             0.3333333333333333,
             "#9c179e"
            ],
            [
             0.4444444444444444,
             "#bd3786"
            ],
            [
             0.5555555555555556,
             "#d8576b"
            ],
            [
             0.6666666666666666,
             "#ed7953"
            ],
            [
             0.7777777777777778,
             "#fb9f3a"
            ],
            [
             0.8888888888888888,
             "#fdca26"
            ],
            [
             1,
             "#f0f921"
            ]
           ]
          },
          "colorway": [
           "#636efa",
           "#EF553B",
           "#00cc96",
           "#ab63fa",
           "#FFA15A",
           "#19d3f3",
           "#FF6692",
           "#B6E880",
           "#FF97FF",
           "#FECB52"
          ],
          "font": {
           "color": "#2a3f5f"
          },
          "geo": {
           "bgcolor": "white",
           "lakecolor": "white",
           "landcolor": "#E5ECF6",
           "showlakes": true,
           "showland": true,
           "subunitcolor": "white"
          },
          "hoverlabel": {
           "align": "left"
          },
          "hovermode": "closest",
          "mapbox": {
           "style": "light"
          },
          "paper_bgcolor": "white",
          "plot_bgcolor": "#E5ECF6",
          "polar": {
           "angularaxis": {
            "gridcolor": "white",
            "linecolor": "white",
            "ticks": ""
           },
           "bgcolor": "#E5ECF6",
           "radialaxis": {
            "gridcolor": "white",
            "linecolor": "white",
            "ticks": ""
           }
          },
          "scene": {
           "xaxis": {
            "backgroundcolor": "#E5ECF6",
            "gridcolor": "white",
            "gridwidth": 2,
            "linecolor": "white",
            "showbackground": true,
            "ticks": "",
            "zerolinecolor": "white"
           },
           "yaxis": {
            "backgroundcolor": "#E5ECF6",
            "gridcolor": "white",
            "gridwidth": 2,
            "linecolor": "white",
            "showbackground": true,
            "ticks": "",
            "zerolinecolor": "white"
           },
           "zaxis": {
            "backgroundcolor": "#E5ECF6",
            "gridcolor": "white",
            "gridwidth": 2,
            "linecolor": "white",
            "showbackground": true,
            "ticks": "",
            "zerolinecolor": "white"
           }
          },
          "shapedefaults": {
           "line": {
            "color": "#2a3f5f"
           }
          },
          "ternary": {
           "aaxis": {
            "gridcolor": "white",
            "linecolor": "white",
            "ticks": ""
           },
           "baxis": {
            "gridcolor": "white",
            "linecolor": "white",
            "ticks": ""
           },
           "bgcolor": "#E5ECF6",
           "caxis": {
            "gridcolor": "white",
            "linecolor": "white",
            "ticks": ""
           }
          },
          "title": {
           "x": 0.05
          },
          "xaxis": {
           "automargin": true,
           "gridcolor": "white",
           "linecolor": "white",
           "ticks": "",
           "title": {
            "standoff": 15
           },
           "zerolinecolor": "white",
           "zerolinewidth": 2
          },
          "yaxis": {
           "automargin": true,
           "gridcolor": "white",
           "linecolor": "white",
           "ticks": "",
           "title": {
            "standoff": 15
           },
           "zerolinecolor": "white",
           "zerolinewidth": 2
          }
         }
        }
       }
      },
      "text/html": [
       "<div>                            <div id=\"308a8de2-5552-4b72-ab16-0617298de54a\" class=\"plotly-graph-div\" style=\"height:525px; width:100%;\"></div>            <script type=\"text/javascript\">                require([\"plotly\"], function(Plotly) {                    window.PLOTLYENV=window.PLOTLYENV || {};                                    if (document.getElementById(\"308a8de2-5552-4b72-ab16-0617298de54a\")) {                    Plotly.newPlot(                        \"308a8de2-5552-4b72-ab16-0617298de54a\",                        [{\"dimensions\":[{\"label\":\"Iterations\",\"values\":[1000000.0,1000000.0,1000000.0,1000000.0,1000000.0,1000000.0,1000000.0,1000000.0,1000000.0,1000000.0,1000000.0,1000000.0,1000000.0,1000000.0,1000000.0,1000000.0,1000000.0,10000000.0,10000000.0,10000000.0,10000000.0,10000000.0,10000000.0,10000000.0,10000000.0,10000000.0,10000000.0,10000000.0,10000000.0,10000000.0,10000000.0,10000000.0,10000000.0,10000000.0,10000000.0]},{\"label\":\"Alpha\",\"values\":[0.1,0.01,0.001,0.1,0.01,0.001,0.01,0.001,0.1,0.01,0.001,0.1,0.01,0.001,0.1,0.01,0.001,0.1,0.01,0.001,0.1,0.01,0.001,0.1,0.01,0.001,0.1,0.01,0.001,0.1,0.01,0.001,0.1,0.01,0.001]},{\"label\":\"Epsilon\",\"values\":[0.5,0.5,0.5,0.5,0.5,0.5,0.5,0.5,1.0,1.0,1.0,1.0,1.0,1.0,1.0,1.0,1.0,0.5,0.5,0.5,0.5,0.5,0.5,0.5,0.5,0.5,1.0,1.0,1.0,1.0,1.0,1.0,1.0,1.0,1.0]},{\"label\":\"Gamma\",\"values\":[0.5,0.5,0.5,0.9,0.9,0.9,0.99,0.99,0.5,0.5,0.5,0.9,0.9,0.9,0.99,0.99,0.99,0.5,0.5,0.5,0.9,0.9,0.9,0.99,0.99,0.99,0.5,0.5,0.5,0.9,0.9,0.9,0.99,0.99,0.99]},{\"label\":\"Success_Mean\",\"values\":[69.64000000000001,52.6,51.879999999999995,52.28000000000001,64.14,52.239999999999995,67.46000000000001,0.0,25.96,44.83999999999999,82.24,77.5,35.6,46.92,53.04,64.47999999999999,63.8,82.28,82.74000000000001,70.96,51.620000000000005,41.4,45.220000000000006,42.459999999999994,52.480000000000004,52.67999999999999,73.06,73.08000000000001,81.68,46.35999999999999,52.67999999999999,51.739999999999995,51.779999999999994,45.81999999999999,42.92]}],\"domain\":{\"x\":[0.0,1.0],\"y\":[0.0,1.0]},\"line\":{\"color\":[0.1,0.01,0.001,0.1,0.01,0.001,0.01,0.001,0.1,0.01,0.001,0.1,0.01,0.001,0.1,0.01,0.001,0.1,0.01,0.001,0.1,0.01,0.001,0.1,0.01,0.001,0.1,0.01,0.001,0.1,0.01,0.001,0.1,0.01,0.001],\"coloraxis\":\"coloraxis\"},\"name\":\"\",\"type\":\"parcoords\"}],                        {\"template\":{\"data\":{\"histogram2dcontour\":[{\"type\":\"histogram2dcontour\",\"colorbar\":{\"outlinewidth\":0,\"ticks\":\"\"},\"colorscale\":[[0.0,\"#0d0887\"],[0.1111111111111111,\"#46039f\"],[0.2222222222222222,\"#7201a8\"],[0.3333333333333333,\"#9c179e\"],[0.4444444444444444,\"#bd3786\"],[0.5555555555555556,\"#d8576b\"],[0.6666666666666666,\"#ed7953\"],[0.7777777777777778,\"#fb9f3a\"],[0.8888888888888888,\"#fdca26\"],[1.0,\"#f0f921\"]]}],\"choropleth\":[{\"type\":\"choropleth\",\"colorbar\":{\"outlinewidth\":0,\"ticks\":\"\"}}],\"histogram2d\":[{\"type\":\"histogram2d\",\"colorbar\":{\"outlinewidth\":0,\"ticks\":\"\"},\"colorscale\":[[0.0,\"#0d0887\"],[0.1111111111111111,\"#46039f\"],[0.2222222222222222,\"#7201a8\"],[0.3333333333333333,\"#9c179e\"],[0.4444444444444444,\"#bd3786\"],[0.5555555555555556,\"#d8576b\"],[0.6666666666666666,\"#ed7953\"],[0.7777777777777778,\"#fb9f3a\"],[0.8888888888888888,\"#fdca26\"],[1.0,\"#f0f921\"]]}],\"heatmap\":[{\"type\":\"heatmap\",\"colorbar\":{\"outlinewidth\":0,\"ticks\":\"\"},\"colorscale\":[[0.0,\"#0d0887\"],[0.1111111111111111,\"#46039f\"],[0.2222222222222222,\"#7201a8\"],[0.3333333333333333,\"#9c179e\"],[0.4444444444444444,\"#bd3786\"],[0.5555555555555556,\"#d8576b\"],[0.6666666666666666,\"#ed7953\"],[0.7777777777777778,\"#fb9f3a\"],[0.8888888888888888,\"#fdca26\"],[1.0,\"#f0f921\"]]}],\"heatmapgl\":[{\"type\":\"heatmapgl\",\"colorbar\":{\"outlinewidth\":0,\"ticks\":\"\"},\"colorscale\":[[0.0,\"#0d0887\"],[0.1111111111111111,\"#46039f\"],[0.2222222222222222,\"#7201a8\"],[0.3333333333333333,\"#9c179e\"],[0.4444444444444444,\"#bd3786\"],[0.5555555555555556,\"#d8576b\"],[0.6666666666666666,\"#ed7953\"],[0.7777777777777778,\"#fb9f3a\"],[0.8888888888888888,\"#fdca26\"],[1.0,\"#f0f921\"]]}],\"contourcarpet\":[{\"type\":\"contourcarpet\",\"colorbar\":{\"outlinewidth\":0,\"ticks\":\"\"}}],\"contour\":[{\"type\":\"contour\",\"colorbar\":{\"outlinewidth\":0,\"ticks\":\"\"},\"colorscale\":[[0.0,\"#0d0887\"],[0.1111111111111111,\"#46039f\"],[0.2222222222222222,\"#7201a8\"],[0.3333333333333333,\"#9c179e\"],[0.4444444444444444,\"#bd3786\"],[0.5555555555555556,\"#d8576b\"],[0.6666666666666666,\"#ed7953\"],[0.7777777777777778,\"#fb9f3a\"],[0.8888888888888888,\"#fdca26\"],[1.0,\"#f0f921\"]]}],\"surface\":[{\"type\":\"surface\",\"colorbar\":{\"outlinewidth\":0,\"ticks\":\"\"},\"colorscale\":[[0.0,\"#0d0887\"],[0.1111111111111111,\"#46039f\"],[0.2222222222222222,\"#7201a8\"],[0.3333333333333333,\"#9c179e\"],[0.4444444444444444,\"#bd3786\"],[0.5555555555555556,\"#d8576b\"],[0.6666666666666666,\"#ed7953\"],[0.7777777777777778,\"#fb9f3a\"],[0.8888888888888888,\"#fdca26\"],[1.0,\"#f0f921\"]]}],\"mesh3d\":[{\"type\":\"mesh3d\",\"colorbar\":{\"outlinewidth\":0,\"ticks\":\"\"}}],\"scatter\":[{\"fillpattern\":{\"fillmode\":\"overlay\",\"size\":10,\"solidity\":0.2},\"type\":\"scatter\"}],\"parcoords\":[{\"type\":\"parcoords\",\"line\":{\"colorbar\":{\"outlinewidth\":0,\"ticks\":\"\"}}}],\"scatterpolargl\":[{\"type\":\"scatterpolargl\",\"marker\":{\"colorbar\":{\"outlinewidth\":0,\"ticks\":\"\"}}}],\"bar\":[{\"error_x\":{\"color\":\"#2a3f5f\"},\"error_y\":{\"color\":\"#2a3f5f\"},\"marker\":{\"line\":{\"color\":\"#E5ECF6\",\"width\":0.5},\"pattern\":{\"fillmode\":\"overlay\",\"size\":10,\"solidity\":0.2}},\"type\":\"bar\"}],\"scattergeo\":[{\"type\":\"scattergeo\",\"marker\":{\"colorbar\":{\"outlinewidth\":0,\"ticks\":\"\"}}}],\"scatterpolar\":[{\"type\":\"scatterpolar\",\"marker\":{\"colorbar\":{\"outlinewidth\":0,\"ticks\":\"\"}}}],\"histogram\":[{\"marker\":{\"pattern\":{\"fillmode\":\"overlay\",\"size\":10,\"solidity\":0.2}},\"type\":\"histogram\"}],\"scattergl\":[{\"type\":\"scattergl\",\"marker\":{\"colorbar\":{\"outlinewidth\":0,\"ticks\":\"\"}}}],\"scatter3d\":[{\"type\":\"scatter3d\",\"line\":{\"colorbar\":{\"outlinewidth\":0,\"ticks\":\"\"}},\"marker\":{\"colorbar\":{\"outlinewidth\":0,\"ticks\":\"\"}}}],\"scattermapbox\":[{\"type\":\"scattermapbox\",\"marker\":{\"colorbar\":{\"outlinewidth\":0,\"ticks\":\"\"}}}],\"scatterternary\":[{\"type\":\"scatterternary\",\"marker\":{\"colorbar\":{\"outlinewidth\":0,\"ticks\":\"\"}}}],\"scattercarpet\":[{\"type\":\"scattercarpet\",\"marker\":{\"colorbar\":{\"outlinewidth\":0,\"ticks\":\"\"}}}],\"carpet\":[{\"aaxis\":{\"endlinecolor\":\"#2a3f5f\",\"gridcolor\":\"white\",\"linecolor\":\"white\",\"minorgridcolor\":\"white\",\"startlinecolor\":\"#2a3f5f\"},\"baxis\":{\"endlinecolor\":\"#2a3f5f\",\"gridcolor\":\"white\",\"linecolor\":\"white\",\"minorgridcolor\":\"white\",\"startlinecolor\":\"#2a3f5f\"},\"type\":\"carpet\"}],\"table\":[{\"cells\":{\"fill\":{\"color\":\"#EBF0F8\"},\"line\":{\"color\":\"white\"}},\"header\":{\"fill\":{\"color\":\"#C8D4E3\"},\"line\":{\"color\":\"white\"}},\"type\":\"table\"}],\"barpolar\":[{\"marker\":{\"line\":{\"color\":\"#E5ECF6\",\"width\":0.5},\"pattern\":{\"fillmode\":\"overlay\",\"size\":10,\"solidity\":0.2}},\"type\":\"barpolar\"}],\"pie\":[{\"automargin\":true,\"type\":\"pie\"}]},\"layout\":{\"autotypenumbers\":\"strict\",\"colorway\":[\"#636efa\",\"#EF553B\",\"#00cc96\",\"#ab63fa\",\"#FFA15A\",\"#19d3f3\",\"#FF6692\",\"#B6E880\",\"#FF97FF\",\"#FECB52\"],\"font\":{\"color\":\"#2a3f5f\"},\"hovermode\":\"closest\",\"hoverlabel\":{\"align\":\"left\"},\"paper_bgcolor\":\"white\",\"plot_bgcolor\":\"#E5ECF6\",\"polar\":{\"bgcolor\":\"#E5ECF6\",\"angularaxis\":{\"gridcolor\":\"white\",\"linecolor\":\"white\",\"ticks\":\"\"},\"radialaxis\":{\"gridcolor\":\"white\",\"linecolor\":\"white\",\"ticks\":\"\"}},\"ternary\":{\"bgcolor\":\"#E5ECF6\",\"aaxis\":{\"gridcolor\":\"white\",\"linecolor\":\"white\",\"ticks\":\"\"},\"baxis\":{\"gridcolor\":\"white\",\"linecolor\":\"white\",\"ticks\":\"\"},\"caxis\":{\"gridcolor\":\"white\",\"linecolor\":\"white\",\"ticks\":\"\"}},\"coloraxis\":{\"colorbar\":{\"outlinewidth\":0,\"ticks\":\"\"}},\"colorscale\":{\"sequential\":[[0.0,\"#0d0887\"],[0.1111111111111111,\"#46039f\"],[0.2222222222222222,\"#7201a8\"],[0.3333333333333333,\"#9c179e\"],[0.4444444444444444,\"#bd3786\"],[0.5555555555555556,\"#d8576b\"],[0.6666666666666666,\"#ed7953\"],[0.7777777777777778,\"#fb9f3a\"],[0.8888888888888888,\"#fdca26\"],[1.0,\"#f0f921\"]],\"sequentialminus\":[[0.0,\"#0d0887\"],[0.1111111111111111,\"#46039f\"],[0.2222222222222222,\"#7201a8\"],[0.3333333333333333,\"#9c179e\"],[0.4444444444444444,\"#bd3786\"],[0.5555555555555556,\"#d8576b\"],[0.6666666666666666,\"#ed7953\"],[0.7777777777777778,\"#fb9f3a\"],[0.8888888888888888,\"#fdca26\"],[1.0,\"#f0f921\"]],\"diverging\":[[0,\"#8e0152\"],[0.1,\"#c51b7d\"],[0.2,\"#de77ae\"],[0.3,\"#f1b6da\"],[0.4,\"#fde0ef\"],[0.5,\"#f7f7f7\"],[0.6,\"#e6f5d0\"],[0.7,\"#b8e186\"],[0.8,\"#7fbc41\"],[0.9,\"#4d9221\"],[1,\"#276419\"]]},\"xaxis\":{\"gridcolor\":\"white\",\"linecolor\":\"white\",\"ticks\":\"\",\"title\":{\"standoff\":15},\"zerolinecolor\":\"white\",\"automargin\":true,\"zerolinewidth\":2},\"yaxis\":{\"gridcolor\":\"white\",\"linecolor\":\"white\",\"ticks\":\"\",\"title\":{\"standoff\":15},\"zerolinecolor\":\"white\",\"automargin\":true,\"zerolinewidth\":2},\"scene\":{\"xaxis\":{\"backgroundcolor\":\"#E5ECF6\",\"gridcolor\":\"white\",\"linecolor\":\"white\",\"showbackground\":true,\"ticks\":\"\",\"zerolinecolor\":\"white\",\"gridwidth\":2},\"yaxis\":{\"backgroundcolor\":\"#E5ECF6\",\"gridcolor\":\"white\",\"linecolor\":\"white\",\"showbackground\":true,\"ticks\":\"\",\"zerolinecolor\":\"white\",\"gridwidth\":2},\"zaxis\":{\"backgroundcolor\":\"#E5ECF6\",\"gridcolor\":\"white\",\"linecolor\":\"white\",\"showbackground\":true,\"ticks\":\"\",\"zerolinecolor\":\"white\",\"gridwidth\":2}},\"shapedefaults\":{\"line\":{\"color\":\"#2a3f5f\"}},\"annotationdefaults\":{\"arrowcolor\":\"#2a3f5f\",\"arrowhead\":0,\"arrowwidth\":1},\"geo\":{\"bgcolor\":\"white\",\"landcolor\":\"#E5ECF6\",\"subunitcolor\":\"white\",\"showland\":true,\"showlakes\":true,\"lakecolor\":\"white\"},\"title\":{\"x\":0.05},\"mapbox\":{\"style\":\"light\"}}},\"coloraxis\":{\"colorbar\":{\"title\":{\"text\":\"Alpha\"}},\"colorscale\":[[0.0,\"#0d0887\"],[0.1111111111111111,\"#46039f\"],[0.2222222222222222,\"#7201a8\"],[0.3333333333333333,\"#9c179e\"],[0.4444444444444444,\"#bd3786\"],[0.5555555555555556,\"#d8576b\"],[0.6666666666666666,\"#ed7953\"],[0.7777777777777778,\"#fb9f3a\"],[0.8888888888888888,\"#fdca26\"],[1.0,\"#f0f921\"]],\"cmid\":2},\"legend\":{\"tracegroupgap\":0},\"margin\":{\"t\":60}},                        {\"responsive\": true}                    ).then(function(){\n",
       "                            \n",
       "var gd = document.getElementById('308a8de2-5552-4b72-ab16-0617298de54a');\n",
       "var x = new MutationObserver(function (mutations, observer) {{\n",
       "        var display = window.getComputedStyle(gd).display;\n",
       "        if (!display || display === 'none') {{\n",
       "            console.log([gd, 'removed!']);\n",
       "            Plotly.purge(gd);\n",
       "            observer.disconnect();\n",
       "        }}\n",
       "}});\n",
       "\n",
       "// Listen for the removal of the full notebook cells\n",
       "var notebookContainer = gd.closest('#notebook-container');\n",
       "if (notebookContainer) {{\n",
       "    x.observe(notebookContainer, {childList: true});\n",
       "}}\n",
       "\n",
       "// Listen for the clearing of the current output cell\n",
       "var outputEl = gd.closest('.output');\n",
       "if (outputEl) {{\n",
       "    x.observe(outputEl, {childList: true});\n",
       "}}\n",
       "\n",
       "                        })                };                });            </script>        </div>"
      ]
     },
     "metadata": {},
     "output_type": "display_data"
    }
   ],
   "source": [
    "import plotly.express as px\n",
    "\n",
    "fig = px.parallel_coordinates(applied_df_full_1, color=\"Alpha\",\n",
    "                              dimensions=['Iterations','Alpha', 'Epsilon', 'Gamma',\n",
    "                                          'Success_Mean'],\n",
    "                              color_continuous_midpoint=2,\n",
    "                             )\n",
    "fig.show()"
   ]
  },
  {
   "cell_type": "code",
   "execution_count": 38,
   "id": "22a161b8",
   "metadata": {
    "scrolled": false
   },
   "outputs": [
    {
     "data": {
      "image/png": "[encoded data removed]",
      "text/plain": [
       "<Figure size 600x600 with 1 Axes>"
      ]
     },
     "metadata": {},
     "output_type": "display_data"
    }
   ],
   "source": [
    "best_policy = np.array(list(q_df.loc[26][\"Policy\"]))\n",
    "best_policy = best_policy.reshape(rows, cols)\n",
    "title='Frozen Lake Q Learning Optimal Policy'\n",
    "plot_lake(env, best_policy, title='Frozen Lake Q Learning Optimal Policy')"
   ]
  },
  {
   "cell_type": "code",
   "execution_count": 40,
   "id": "9a5554e1",
   "metadata": {},
   "outputs": [
    {
     "data": {
      "image/png": "[encoded data removed]",
      "text/plain": [
       "<Figure size 600x600 with 1 Axes>"
      ]
     },
     "metadata": {},
     "output_type": "display_data"
    }
   ],
   "source": [
    "best_val_fn = np.array(list(q_df.loc[26][\"Value Function\"]))\n",
    "best_val_fn = best_val_fn.reshape(rows, cols)\n",
    "plot_lake_values(env, best_val_fn, title='Frozen Lake Q Learning Optimal State Values')"
   ]
  }
 ],
 "metadata": {
  "kernelspec": {
   "display_name": "Python 3 (ipykernel)",
   "language": "python",
   "name": "python3"
  },
  "language_info": {
   "codemirror_mode": {
    "name": "ipython",
    "version": 3
   },
   "file_extension": ".py",
   "mimetype": "text/x-python",
   "name": "python",
   "nbconvert_exporter": "python",
   "pygments_lexer": "ipython3",
   "version": "3.9.13"
  }
 },
 "nbformat": 4,
 "nbformat_minor": 5
}
